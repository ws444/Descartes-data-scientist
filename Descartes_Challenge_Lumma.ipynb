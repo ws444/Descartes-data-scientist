{
 "cells": [
  {
   "cell_type": "markdown",
   "id": "acd3cdd4",
   "metadata": {},
   "source": [
    "# Overview - Challenge"
   ]
  },
  {
   "cell_type": "markdown",
   "id": "f699aef0",
   "metadata": {},
   "source": [
    "© Johannes Lumma"
   ]
  },
  {
   "cell_type": "markdown",
   "id": "998e1671",
   "metadata": {},
   "source": [
    "In the following we will attempt to predict Target_Flag. This is a classification problem. <br> We will start by understanding the data, cleaning and preprocessing it and finally test two different models (a Logistic Regression and a SVC)."
   ]
  },
  {
   "cell_type": "markdown",
   "id": "1c13bcc1",
   "metadata": {},
   "source": [
    "# Importing Libraries & Loading Data"
   ]
  },
  {
   "cell_type": "markdown",
   "id": "819b63eb",
   "metadata": {},
   "source": [
    "## Importing Relevant Libraries"
   ]
  },
  {
   "cell_type": "code",
   "execution_count": 2,
   "id": "9ab6178f",
   "metadata": {},
   "outputs": [],
   "source": [
    "# Data Basics\n",
    "import pandas as pd\n",
    "import numpy as np\n",
    "import matplotlib.pyplot as plt\n",
    "import seaborn as sns\n",
    "from sklearn import set_config; set_config(display='diagram')\n",
    "from scipy import stats\n",
    "\n",
    "# Data Cleaning and Preprocessing\n",
    "from sklearn.model_selection import train_test_split\n",
    "from sklearn.preprocessing import MinMaxScaler, StandardScaler\n",
    "from sklearn.model_selection import learning_curve\n",
    "from sklearn.pipeline import Pipeline, make_pipeline\n",
    "from sklearn.compose import ColumnTransformer, make_column_transformer, make_column_selector\n",
    "from sklearn.impute import SimpleImputer\n",
    "from sklearn.preprocessing import RobustScaler, OneHotEncoder, OrdinalEncoder\n",
    "\n",
    "# Modelling\n",
    "from sklearn.linear_model import LogisticRegression\n",
    "from sklearn.svm import SVC\n",
    "from sklearn.model_selection import cross_val_score\n",
    "from sklearn.model_selection import GridSearchCV\n",
    "from sklearn.metrics import classification_report, confusion_matrix, accuracy_score\n",
    "from sklearn.metrics import make_scorer\n"
   ]
  },
  {
   "cell_type": "markdown",
   "id": "dadd677d",
   "metadata": {},
   "source": [
    "## Loading Data"
   ]
  },
  {
   "cell_type": "code",
   "execution_count": 593,
   "id": "2b9b58a6",
   "metadata": {},
   "outputs": [],
   "source": [
    "# Loading Data from github repository\n",
    "train_data = pd.read_csv('https://github.com/descartes-underwriting/data-scientist-technical-test/blob/main/data/auto-insurance-fall-2017/train_auto.csv?raw=true')\n",
    "test_data = pd.read_csv('https://github.com/descartes-underwriting/data-scientist-technical-test/blob/main/data/auto-insurance-fall-2017/test_auto.csv?raw=true')"
   ]
  },
  {
   "cell_type": "code",
   "execution_count": 594,
   "id": "5c90a5b4",
   "metadata": {},
   "outputs": [
    {
     "data": {
      "text/html": [
       "<div>\n",
       "<style scoped>\n",
       "    .dataframe tbody tr th:only-of-type {\n",
       "        vertical-align: middle;\n",
       "    }\n",
       "\n",
       "    .dataframe tbody tr th {\n",
       "        vertical-align: top;\n",
       "    }\n",
       "\n",
       "    .dataframe thead th {\n",
       "        text-align: right;\n",
       "    }\n",
       "</style>\n",
       "<table border=\"1\" class=\"dataframe\">\n",
       "  <thead>\n",
       "    <tr style=\"text-align: right;\">\n",
       "      <th></th>\n",
       "      <th>INDEX</th>\n",
       "      <th>TARGET_FLAG</th>\n",
       "      <th>TARGET_AMT</th>\n",
       "      <th>KIDSDRIV</th>\n",
       "      <th>AGE</th>\n",
       "      <th>HOMEKIDS</th>\n",
       "      <th>YOJ</th>\n",
       "      <th>INCOME</th>\n",
       "      <th>PARENT1</th>\n",
       "      <th>HOME_VAL</th>\n",
       "      <th>...</th>\n",
       "      <th>BLUEBOOK</th>\n",
       "      <th>TIF</th>\n",
       "      <th>CAR_TYPE</th>\n",
       "      <th>RED_CAR</th>\n",
       "      <th>OLDCLAIM</th>\n",
       "      <th>CLM_FREQ</th>\n",
       "      <th>REVOKED</th>\n",
       "      <th>MVR_PTS</th>\n",
       "      <th>CAR_AGE</th>\n",
       "      <th>URBANICITY</th>\n",
       "    </tr>\n",
       "  </thead>\n",
       "  <tbody>\n",
       "    <tr>\n",
       "      <th>0</th>\n",
       "      <td>1</td>\n",
       "      <td>0</td>\n",
       "      <td>0.0</td>\n",
       "      <td>0</td>\n",
       "      <td>60.0</td>\n",
       "      <td>0</td>\n",
       "      <td>11.0</td>\n",
       "      <td>$67,349</td>\n",
       "      <td>No</td>\n",
       "      <td>$0</td>\n",
       "      <td>...</td>\n",
       "      <td>$14,230</td>\n",
       "      <td>11</td>\n",
       "      <td>Minivan</td>\n",
       "      <td>yes</td>\n",
       "      <td>$4,461</td>\n",
       "      <td>2</td>\n",
       "      <td>No</td>\n",
       "      <td>3</td>\n",
       "      <td>18.0</td>\n",
       "      <td>Highly Urban/ Urban</td>\n",
       "    </tr>\n",
       "    <tr>\n",
       "      <th>1</th>\n",
       "      <td>2</td>\n",
       "      <td>0</td>\n",
       "      <td>0.0</td>\n",
       "      <td>0</td>\n",
       "      <td>43.0</td>\n",
       "      <td>0</td>\n",
       "      <td>11.0</td>\n",
       "      <td>$91,449</td>\n",
       "      <td>No</td>\n",
       "      <td>$257,252</td>\n",
       "      <td>...</td>\n",
       "      <td>$14,940</td>\n",
       "      <td>1</td>\n",
       "      <td>Minivan</td>\n",
       "      <td>yes</td>\n",
       "      <td>$0</td>\n",
       "      <td>0</td>\n",
       "      <td>No</td>\n",
       "      <td>0</td>\n",
       "      <td>1.0</td>\n",
       "      <td>Highly Urban/ Urban</td>\n",
       "    </tr>\n",
       "    <tr>\n",
       "      <th>2</th>\n",
       "      <td>4</td>\n",
       "      <td>0</td>\n",
       "      <td>0.0</td>\n",
       "      <td>0</td>\n",
       "      <td>35.0</td>\n",
       "      <td>1</td>\n",
       "      <td>10.0</td>\n",
       "      <td>$16,039</td>\n",
       "      <td>No</td>\n",
       "      <td>$124,191</td>\n",
       "      <td>...</td>\n",
       "      <td>$4,010</td>\n",
       "      <td>4</td>\n",
       "      <td>z_SUV</td>\n",
       "      <td>no</td>\n",
       "      <td>$38,690</td>\n",
       "      <td>2</td>\n",
       "      <td>No</td>\n",
       "      <td>3</td>\n",
       "      <td>10.0</td>\n",
       "      <td>Highly Urban/ Urban</td>\n",
       "    </tr>\n",
       "    <tr>\n",
       "      <th>3</th>\n",
       "      <td>5</td>\n",
       "      <td>0</td>\n",
       "      <td>0.0</td>\n",
       "      <td>0</td>\n",
       "      <td>51.0</td>\n",
       "      <td>0</td>\n",
       "      <td>14.0</td>\n",
       "      <td>NaN</td>\n",
       "      <td>No</td>\n",
       "      <td>$306,251</td>\n",
       "      <td>...</td>\n",
       "      <td>$15,440</td>\n",
       "      <td>7</td>\n",
       "      <td>Minivan</td>\n",
       "      <td>yes</td>\n",
       "      <td>$0</td>\n",
       "      <td>0</td>\n",
       "      <td>No</td>\n",
       "      <td>0</td>\n",
       "      <td>6.0</td>\n",
       "      <td>Highly Urban/ Urban</td>\n",
       "    </tr>\n",
       "    <tr>\n",
       "      <th>4</th>\n",
       "      <td>6</td>\n",
       "      <td>0</td>\n",
       "      <td>0.0</td>\n",
       "      <td>0</td>\n",
       "      <td>50.0</td>\n",
       "      <td>0</td>\n",
       "      <td>NaN</td>\n",
       "      <td>$114,986</td>\n",
       "      <td>No</td>\n",
       "      <td>$243,925</td>\n",
       "      <td>...</td>\n",
       "      <td>$18,000</td>\n",
       "      <td>1</td>\n",
       "      <td>z_SUV</td>\n",
       "      <td>no</td>\n",
       "      <td>$19,217</td>\n",
       "      <td>2</td>\n",
       "      <td>Yes</td>\n",
       "      <td>3</td>\n",
       "      <td>17.0</td>\n",
       "      <td>Highly Urban/ Urban</td>\n",
       "    </tr>\n",
       "  </tbody>\n",
       "</table>\n",
       "<p>5 rows × 26 columns</p>\n",
       "</div>"
      ],
      "text/plain": [
       "   INDEX  TARGET_FLAG  TARGET_AMT  KIDSDRIV   AGE  HOMEKIDS   YOJ    INCOME  \\\n",
       "0      1            0         0.0         0  60.0         0  11.0   $67,349   \n",
       "1      2            0         0.0         0  43.0         0  11.0   $91,449   \n",
       "2      4            0         0.0         0  35.0         1  10.0   $16,039   \n",
       "3      5            0         0.0         0  51.0         0  14.0       NaN   \n",
       "4      6            0         0.0         0  50.0         0   NaN  $114,986   \n",
       "\n",
       "  PARENT1  HOME_VAL  ... BLUEBOOK TIF CAR_TYPE RED_CAR  OLDCLAIM CLM_FREQ  \\\n",
       "0      No        $0  ...  $14,230  11  Minivan     yes    $4,461        2   \n",
       "1      No  $257,252  ...  $14,940   1  Minivan     yes        $0        0   \n",
       "2      No  $124,191  ...   $4,010   4    z_SUV      no   $38,690        2   \n",
       "3      No  $306,251  ...  $15,440   7  Minivan     yes        $0        0   \n",
       "4      No  $243,925  ...  $18,000   1    z_SUV      no   $19,217        2   \n",
       "\n",
       "  REVOKED  MVR_PTS CAR_AGE           URBANICITY  \n",
       "0      No        3    18.0  Highly Urban/ Urban  \n",
       "1      No        0     1.0  Highly Urban/ Urban  \n",
       "2      No        3    10.0  Highly Urban/ Urban  \n",
       "3      No        0     6.0  Highly Urban/ Urban  \n",
       "4     Yes        3    17.0  Highly Urban/ Urban  \n",
       "\n",
       "[5 rows x 26 columns]"
      ]
     },
     "execution_count": 594,
     "metadata": {},
     "output_type": "execute_result"
    }
   ],
   "source": [
    "train_data.head()"
   ]
  },
  {
   "cell_type": "code",
   "execution_count": 596,
   "id": "27f79894",
   "metadata": {},
   "outputs": [
    {
     "data": {
      "text/plain": [
       "0    6008\n",
       "1    2153\n",
       "Name: TARGET_FLAG, dtype: int64"
      ]
     },
     "execution_count": 596,
     "metadata": {},
     "output_type": "execute_result"
    }
   ],
   "source": [
    "# Target is not equally distributed\n",
    "train_data['TARGET_FLAG'].value_counts()"
   ]
  },
  {
   "cell_type": "markdown",
   "id": "8aa6243b",
   "metadata": {},
   "source": [
    "# Data Cleaning - Initial Feature Overview"
   ]
  },
  {
   "cell_type": "markdown",
   "id": "cf297315",
   "metadata": {},
   "source": [
    "In this section we will clean the data and preprocess it."
   ]
  },
  {
   "cell_type": "markdown",
   "id": "32ba3328",
   "metadata": {},
   "source": [
    "## Data Cleaning and Feature Encoding"
   ]
  },
  {
   "cell_type": "markdown",
   "id": "5973639c",
   "metadata": {},
   "source": [
    "Let us start by converting columns with prices and income into floats by removing the dollar signs and replacing commas by dots."
   ]
  },
  {
   "cell_type": "code",
   "execution_count": 570,
   "id": "3ebaa525",
   "metadata": {},
   "outputs": [],
   "source": [
    "str_cols = ['INCOME','BLUEBOOK','HOME_VAL','OLDCLAIM']    \n",
    "\n",
    "train_data[str_cols] = train_data[str_cols].replace('\\$', '', regex=True)\n",
    "train_data[str_cols] = train_data[str_cols].replace(',', '.', regex=True)\n",
    "\n",
    "test_data[str_cols] = test_data[str_cols].replace('\\$', '', regex=True)\n",
    "test_data[str_cols] = test_data[str_cols].replace(',', '.', regex=True)\n",
    "\n",
    "train_data[str_cols] = train_data[str_cols].astype(float, errors = 'raise')\n",
    "test_data[str_cols] = test_data[str_cols].astype(float, errors = 'raise')"
   ]
  },
  {
   "cell_type": "markdown",
   "id": "de20dde8",
   "metadata": {},
   "source": [
    "Split data into input and target"
   ]
  },
  {
   "cell_type": "code",
   "execution_count": 571,
   "id": "30103f7c",
   "metadata": {},
   "outputs": [
    {
     "data": {
      "text/plain": [
       "(8161, 23)"
      ]
     },
     "execution_count": 571,
     "metadata": {},
     "output_type": "execute_result"
    }
   ],
   "source": [
    "X = train_data.drop(columns=['TARGET_FLAG','TARGET_AMT','INDEX'])\n",
    "X_test = test_data.drop(columns=['TARGET_FLAG','TARGET_AMT','INDEX'])\n",
    "\n",
    "y = train_data.TARGET_FLAG\n",
    "y_test = test_data.TARGET_FLAG\n",
    "\n",
    "X.shape"
   ]
  },
  {
   "cell_type": "markdown",
   "id": "22efcbaf",
   "metadata": {},
   "source": [
    "## Understanding Data\n"
   ]
  },
  {
   "cell_type": "markdown",
   "id": "f7913981",
   "metadata": {},
   "source": [
    "Before starting with the preprocessing let us understand our data a little bit better:"
   ]
  },
  {
   "cell_type": "code",
   "execution_count": 555,
   "id": "fb453f39",
   "metadata": {},
   "outputs": [
    {
     "data": {
      "image/png": "[encoded data removed]",
      "text/plain": [
       "<Figure size 504x360 with 2 Axes>"
      ]
     },
     "metadata": {
      "needs_background": "light"
     },
     "output_type": "display_data"
    }
   ],
   "source": [
    "feat_numerical_complete = sorted(train_data.select_dtypes(include=[\"int64\", \"float64\"]).columns)\n",
    "corr_num = train_data[feat_numerical_complete].corr()\n",
    "plt.figure(figsize=(7,5))\n",
    "sns.heatmap(corr_num, cmap='coolwarm',vmin=-1, vmax=1);"
   ]
  },
  {
   "cell_type": "markdown",
   "id": "6f88517c",
   "metadata": {},
   "source": [
    "One notices for instance that more than a third of entries in the column HOME_VAL is zero. We will check whether this might be a sign of an error or if is reasonable:"
   ]
  },
  {
   "cell_type": "code",
   "execution_count": 383,
   "id": "e0c105e9",
   "metadata": {},
   "outputs": [
    {
     "data": {
      "text/plain": [
       "0.000      2294\n",
       "238.724       3\n",
       "196.320       3\n",
       "332.673       3\n",
       "123.109       3\n",
       "           ... \n",
       "190.282       1\n",
       "274.122       1\n",
       "249.869       1\n",
       "128.607       1\n",
       "197.017       1\n",
       "Name: HOME_VAL, Length: 5106, dtype: int64"
      ]
     },
     "execution_count": 383,
     "metadata": {},
     "output_type": "execute_result"
    }
   ],
   "source": [
    "X['HOME_VAL'].value_counts()"
   ]
  },
  {
   "cell_type": "markdown",
   "id": "95ba1818",
   "metadata": {},
   "source": [
    "As can be seen below with the eye that HOME_VAL correlates with martital status"
   ]
  },
  {
   "cell_type": "code",
   "execution_count": 335,
   "id": "7bbd5320",
   "metadata": {
    "scrolled": true
   },
   "outputs": [
    {
     "data": {
      "text/plain": [
       "0.000      1951\n",
       "153.061       3\n",
       "316.035       2\n",
       "143.884       2\n",
       "241.544       2\n",
       "           ... \n",
       "58.318        1\n",
       "211.621       1\n",
       "271.024       1\n",
       "279.674       1\n",
       "232.182       1\n",
       "Name: HOME_VAL, Length: 1088, dtype: int64"
      ]
     },
     "execution_count": 335,
     "metadata": {},
     "output_type": "execute_result"
    }
   ],
   "source": [
    "X['HOME_VAL'][X['MSTATUS'] == 'z_No'].value_counts()"
   ]
  },
  {
   "cell_type": "markdown",
   "id": "884929cc",
   "metadata": {},
   "source": [
    "Of the total 2294 people that have a home value of 0, 1951 (85%) are not married. The reason could be that non-married people tend to live for rent.\n",
    "We will therefore not impute those entries later on but leave them as they are."
   ]
  },
  {
   "cell_type": "markdown",
   "id": "84215bf7",
   "metadata": {},
   "source": [
    "## Imputing and Encoding the data"
   ]
  },
  {
   "cell_type": "markdown",
   "id": "d22c3e1c",
   "metadata": {},
   "source": [
    "Let us start by analyzing the categorical features and one-hot-encode them. <br>\n",
    "We will store the number of unique values for each categorical feature in our training set in the series feat_categorical_nunique."
   ]
  },
  {
   "cell_type": "code",
   "execution_count": 326,
   "id": "8030529d",
   "metadata": {},
   "outputs": [],
   "source": [
    "feat_categorical_nunique = X.select_dtypes(include='object').nunique()"
   ]
  },
  {
   "cell_type": "code",
   "execution_count": 327,
   "id": "4243d7fa",
   "metadata": {},
   "outputs": [
    {
     "data": {
      "text/plain": [
       "PARENT1       2\n",
       "MSTATUS       2\n",
       "SEX           2\n",
       "EDUCATION     5\n",
       "JOB           8\n",
       "CAR_USE       2\n",
       "CAR_TYPE      6\n",
       "RED_CAR       2\n",
       "REVOKED       2\n",
       "URBANICITY    2\n",
       "dtype: int64"
      ]
     },
     "execution_count": 327,
     "metadata": {},
     "output_type": "execute_result"
    }
   ],
   "source": [
    "X.select_dtypes(include=['object']).nunique()"
   ]
  },
  {
   "cell_type": "code",
   "execution_count": 329,
   "id": "85833426",
   "metadata": {},
   "outputs": [
    {
     "data": {
      "text/plain": [
       "33"
      ]
     },
     "execution_count": 329,
     "metadata": {},
     "output_type": "execute_result"
    }
   ],
   "source": [
    "X.select_dtypes(include=['object']).nunique().sum()"
   ]
  },
  {
   "cell_type": "markdown",
   "id": "87a8a507",
   "metadata": {},
   "source": [
    "We see that we have 33 unique categorical features that need to be encoded. \n",
    "Dropping one column for all binary features (using drop = 'if_binary'), however, results in 26 additional columns."
   ]
  },
  {
   "cell_type": "markdown",
   "id": "c417b8d0",
   "metadata": {},
   "source": [
    "Let us now preprocess the data, i.e.\n",
    "\n",
    "For categorical features\n",
    "\n",
    "    Simple-Impute with most frequent values\n",
    "    One-Hot-Encode features \n",
    "    Drop all others features\n",
    "    \n",
    "    \n",
    "and for numerical features\n",
    "\n",
    "    Simple-Impute with strategy 'mean'\n",
    "    Min-Max Scale\n",
    "\n"
   ]
  },
  {
   "cell_type": "code",
   "execution_count": 19,
   "id": "9f138379",
   "metadata": {},
   "outputs": [
    {
     "data": {
      "text/html": [
       "<style>#sk-0563dc62-66a0-42f4-8ca5-a1e1195c8693 {color: black;background-color: white;}#sk-0563dc62-66a0-42f4-8ca5-a1e1195c8693 pre{padding: 0;}#sk-0563dc62-66a0-42f4-8ca5-a1e1195c8693 div.sk-toggleable {background-color: white;}#sk-0563dc62-66a0-42f4-8ca5-a1e1195c8693 label.sk-toggleable__label {cursor: pointer;display: block;width: 100%;margin-bottom: 0;padding: 0.3em;box-sizing: border-box;text-align: center;}#sk-0563dc62-66a0-42f4-8ca5-a1e1195c8693 label.sk-toggleable__label-arrow:before {content: \"▸\";float: left;margin-right: 0.25em;color: #696969;}#sk-0563dc62-66a0-42f4-8ca5-a1e1195c8693 label.sk-toggleable__label-arrow:hover:before {color: black;}#sk-0563dc62-66a0-42f4-8ca5-a1e1195c8693 div.sk-estimator:hover label.sk-toggleable__label-arrow:before {color: black;}#sk-0563dc62-66a0-42f4-8ca5-a1e1195c8693 div.sk-toggleable__content {max-height: 0;max-width: 0;overflow: hidden;text-align: left;background-color: #f0f8ff;}#sk-0563dc62-66a0-42f4-8ca5-a1e1195c8693 div.sk-toggleable__content pre {margin: 0.2em;color: black;border-radius: 0.25em;background-color: #f0f8ff;}#sk-0563dc62-66a0-42f4-8ca5-a1e1195c8693 input.sk-toggleable__control:checked~div.sk-toggleable__content {max-height: 200px;max-width: 100%;overflow: auto;}#sk-0563dc62-66a0-42f4-8ca5-a1e1195c8693 input.sk-toggleable__control:checked~label.sk-toggleable__label-arrow:before {content: \"▾\";}#sk-0563dc62-66a0-42f4-8ca5-a1e1195c8693 div.sk-estimator input.sk-toggleable__control:checked~label.sk-toggleable__label {background-color: #d4ebff;}#sk-0563dc62-66a0-42f4-8ca5-a1e1195c8693 div.sk-label input.sk-toggleable__control:checked~label.sk-toggleable__label {background-color: #d4ebff;}#sk-0563dc62-66a0-42f4-8ca5-a1e1195c8693 input.sk-hidden--visually {border: 0;clip: rect(1px 1px 1px 1px);clip: rect(1px, 1px, 1px, 1px);height: 1px;margin: -1px;overflow: hidden;padding: 0;position: absolute;width: 1px;}#sk-0563dc62-66a0-42f4-8ca5-a1e1195c8693 div.sk-estimator {font-family: monospace;background-color: #f0f8ff;border: 1px dotted black;border-radius: 0.25em;box-sizing: border-box;margin-bottom: 0.5em;}#sk-0563dc62-66a0-42f4-8ca5-a1e1195c8693 div.sk-estimator:hover {background-color: #d4ebff;}#sk-0563dc62-66a0-42f4-8ca5-a1e1195c8693 div.sk-parallel-item::after {content: \"\";width: 100%;border-bottom: 1px solid gray;flex-grow: 1;}#sk-0563dc62-66a0-42f4-8ca5-a1e1195c8693 div.sk-label:hover label.sk-toggleable__label {background-color: #d4ebff;}#sk-0563dc62-66a0-42f4-8ca5-a1e1195c8693 div.sk-serial::before {content: \"\";position: absolute;border-left: 1px solid gray;box-sizing: border-box;top: 2em;bottom: 0;left: 50%;}#sk-0563dc62-66a0-42f4-8ca5-a1e1195c8693 div.sk-serial {display: flex;flex-direction: column;align-items: center;background-color: white;padding-right: 0.2em;padding-left: 0.2em;}#sk-0563dc62-66a0-42f4-8ca5-a1e1195c8693 div.sk-item {z-index: 1;}#sk-0563dc62-66a0-42f4-8ca5-a1e1195c8693 div.sk-parallel {display: flex;align-items: stretch;justify-content: center;background-color: white;}#sk-0563dc62-66a0-42f4-8ca5-a1e1195c8693 div.sk-parallel::before {content: \"\";position: absolute;border-left: 1px solid gray;box-sizing: border-box;top: 2em;bottom: 0;left: 50%;}#sk-0563dc62-66a0-42f4-8ca5-a1e1195c8693 div.sk-parallel-item {display: flex;flex-direction: column;position: relative;background-color: white;}#sk-0563dc62-66a0-42f4-8ca5-a1e1195c8693 div.sk-parallel-item:first-child::after {align-self: flex-end;width: 50%;}#sk-0563dc62-66a0-42f4-8ca5-a1e1195c8693 div.sk-parallel-item:last-child::after {align-self: flex-start;width: 50%;}#sk-0563dc62-66a0-42f4-8ca5-a1e1195c8693 div.sk-parallel-item:only-child::after {width: 0;}#sk-0563dc62-66a0-42f4-8ca5-a1e1195c8693 div.sk-dashed-wrapped {border: 1px dashed gray;margin: 0 0.4em 0.5em 0.4em;box-sizing: border-box;padding-bottom: 0.4em;background-color: white;position: relative;}#sk-0563dc62-66a0-42f4-8ca5-a1e1195c8693 div.sk-label label {font-family: monospace;font-weight: bold;background-color: white;display: inline-block;line-height: 1.2em;}#sk-0563dc62-66a0-42f4-8ca5-a1e1195c8693 div.sk-label-container {position: relative;z-index: 2;text-align: center;}#sk-0563dc62-66a0-42f4-8ca5-a1e1195c8693 div.sk-container {/* jupyter's `normalize.less` sets `[hidden] { display: none; }` but bootstrap.min.css set `[hidden] { display: none !important; }` so we also need the `!important` here to be able to override the default hidden behavior on the sphinx rendered scikit-learn.org. See: https://github.com/scikit-learn/scikit-learn/issues/21755 */display: inline-block !important;position: relative;}#sk-0563dc62-66a0-42f4-8ca5-a1e1195c8693 div.sk-text-repr-fallback {display: none;}</style><div id=\"sk-0563dc62-66a0-42f4-8ca5-a1e1195c8693\" class=\"sk-top-container\"><div class=\"sk-text-repr-fallback\"><pre>ColumnTransformer(transformers=[(&#x27;pipeline-1&#x27;,\n",
       "                                 Pipeline(steps=[(&#x27;simpleimputer&#x27;,\n",
       "                                                  SimpleImputer()),\n",
       "                                                 (&#x27;minmaxscaler&#x27;,\n",
       "                                                  MinMaxScaler())]),\n",
       "                                 &lt;sklearn.compose._column_transformer.make_column_selector object at 0x7f6a024c10d0&gt;),\n",
       "                                (&#x27;pipeline-2&#x27;,\n",
       "                                 Pipeline(steps=[(&#x27;simpleimputer&#x27;,\n",
       "                                                  SimpleImputer(strategy=&#x27;most_frequent&#x27;)),\n",
       "                                                 (&#x27;onehotencoder&#x27;,\n",
       "                                                  OneHotEncoder(drop=&#x27;if_binary&#x27;,\n",
       "                                                                handle_unknown=&#x27;ignore&#x27;,\n",
       "                                                                sparse=False))]),\n",
       "                                 &lt;sklearn.compose._column_transformer.make_column_selector object at 0x7f6a024c1d30&gt;)])</pre><b>Please rerun this cell to show the HTML repr or trust the notebook.</b></div><div class=\"sk-container\" hidden><div class=\"sk-item sk-dashed-wrapped\"><div class=\"sk-label-container\"><div class=\"sk-label sk-toggleable\"><input class=\"sk-toggleable__control sk-hidden--visually\" id=\"b8c63af9-617f-48b7-9dcd-c72f17eae536\" type=\"checkbox\" ><label for=\"b8c63af9-617f-48b7-9dcd-c72f17eae536\" class=\"sk-toggleable__label sk-toggleable__label-arrow\">ColumnTransformer</label><div class=\"sk-toggleable__content\"><pre>ColumnTransformer(transformers=[(&#x27;pipeline-1&#x27;,\n",
       "                                 Pipeline(steps=[(&#x27;simpleimputer&#x27;,\n",
       "                                                  SimpleImputer()),\n",
       "                                                 (&#x27;minmaxscaler&#x27;,\n",
       "                                                  MinMaxScaler())]),\n",
       "                                 &lt;sklearn.compose._column_transformer.make_column_selector object at 0x7f6a024c10d0&gt;),\n",
       "                                (&#x27;pipeline-2&#x27;,\n",
       "                                 Pipeline(steps=[(&#x27;simpleimputer&#x27;,\n",
       "                                                  SimpleImputer(strategy=&#x27;most_frequent&#x27;)),\n",
       "                                                 (&#x27;onehotencoder&#x27;,\n",
       "                                                  OneHotEncoder(drop=&#x27;if_binary&#x27;,\n",
       "                                                                handle_unknown=&#x27;ignore&#x27;,\n",
       "                                                                sparse=False))]),\n",
       "                                 &lt;sklearn.compose._column_transformer.make_column_selector object at 0x7f6a024c1d30&gt;)])</pre></div></div></div><div class=\"sk-parallel\"><div class=\"sk-parallel-item\"><div class=\"sk-item\"><div class=\"sk-label-container\"><div class=\"sk-label sk-toggleable\"><input class=\"sk-toggleable__control sk-hidden--visually\" id=\"3846c45f-2139-4978-9928-9917f5aa59a0\" type=\"checkbox\" ><label for=\"3846c45f-2139-4978-9928-9917f5aa59a0\" class=\"sk-toggleable__label sk-toggleable__label-arrow\">pipeline-1</label><div class=\"sk-toggleable__content\"><pre>&lt;sklearn.compose._column_transformer.make_column_selector object at 0x7f6a024c10d0&gt;</pre></div></div></div><div class=\"sk-serial\"><div class=\"sk-item\"><div class=\"sk-serial\"><div class=\"sk-item\"><div class=\"sk-estimator sk-toggleable\"><input class=\"sk-toggleable__control sk-hidden--visually\" id=\"f5290ef4-07df-4249-870d-de2cf1924467\" type=\"checkbox\" ><label for=\"f5290ef4-07df-4249-870d-de2cf1924467\" class=\"sk-toggleable__label sk-toggleable__label-arrow\">SimpleImputer</label><div class=\"sk-toggleable__content\"><pre>SimpleImputer()</pre></div></div></div><div class=\"sk-item\"><div class=\"sk-estimator sk-toggleable\"><input class=\"sk-toggleable__control sk-hidden--visually\" id=\"733364ea-63c5-4e4f-b159-25d22f43028c\" type=\"checkbox\" ><label for=\"733364ea-63c5-4e4f-b159-25d22f43028c\" class=\"sk-toggleable__label sk-toggleable__label-arrow\">MinMaxScaler</label><div class=\"sk-toggleable__content\"><pre>MinMaxScaler()</pre></div></div></div></div></div></div></div></div><div class=\"sk-parallel-item\"><div class=\"sk-item\"><div class=\"sk-label-container\"><div class=\"sk-label sk-toggleable\"><input class=\"sk-toggleable__control sk-hidden--visually\" id=\"142fbf57-07d5-4bc6-860e-6b2916c7d32c\" type=\"checkbox\" ><label for=\"142fbf57-07d5-4bc6-860e-6b2916c7d32c\" class=\"sk-toggleable__label sk-toggleable__label-arrow\">pipeline-2</label><div class=\"sk-toggleable__content\"><pre>&lt;sklearn.compose._column_transformer.make_column_selector object at 0x7f6a024c1d30&gt;</pre></div></div></div><div class=\"sk-serial\"><div class=\"sk-item\"><div class=\"sk-serial\"><div class=\"sk-item\"><div class=\"sk-estimator sk-toggleable\"><input class=\"sk-toggleable__control sk-hidden--visually\" id=\"867937bc-3af7-4d6c-b165-c20d233bcfd6\" type=\"checkbox\" ><label for=\"867937bc-3af7-4d6c-b165-c20d233bcfd6\" class=\"sk-toggleable__label sk-toggleable__label-arrow\">SimpleImputer</label><div class=\"sk-toggleable__content\"><pre>SimpleImputer(strategy=&#x27;most_frequent&#x27;)</pre></div></div></div><div class=\"sk-item\"><div class=\"sk-estimator sk-toggleable\"><input class=\"sk-toggleable__control sk-hidden--visually\" id=\"840743ec-a657-4323-b056-3c73a1207e0b\" type=\"checkbox\" ><label for=\"840743ec-a657-4323-b056-3c73a1207e0b\" class=\"sk-toggleable__label sk-toggleable__label-arrow\">OneHotEncoder</label><div class=\"sk-toggleable__content\"><pre>OneHotEncoder(drop=&#x27;if_binary&#x27;, handle_unknown=&#x27;ignore&#x27;, sparse=False)</pre></div></div></div></div></div></div></div></div></div></div></div></div>"
      ],
      "text/plain": [
       "ColumnTransformer(transformers=[('pipeline-1',\n",
       "                                 Pipeline(steps=[('simpleimputer',\n",
       "                                                  SimpleImputer()),\n",
       "                                                 ('minmaxscaler',\n",
       "                                                  MinMaxScaler())]),\n",
       "                                 <sklearn.compose._column_transformer.make_column_selector object at 0x7f6a024c10d0>),\n",
       "                                ('pipeline-2',\n",
       "                                 Pipeline(steps=[('simpleimputer',\n",
       "                                                  SimpleImputer(strategy='most_frequent')),\n",
       "                                                 ('onehotencoder',\n",
       "                                                  OneHotEncoder(drop='if_binary',\n",
       "                                                                handle_unknown='ignore',\n",
       "                                                                sparse=False))]),\n",
       "                                 <sklearn.compose._column_transformer.make_column_selector object at 0x7f6a024c1d30>)])"
      ]
     },
     "execution_count": 19,
     "metadata": {},
     "output_type": "execute_result"
    }
   ],
   "source": [
    "preproc_numerical_baseline = make_pipeline(\n",
    "    SimpleImputer(),\n",
    "    MinMaxScaler())\n",
    "\n",
    "preproc_categorical_baseline = make_pipeline(\n",
    "    SimpleImputer(missing_values=np.nan, strategy=\"most_frequent\"),\n",
    "    OneHotEncoder(sparse=False,handle_unknown=\"ignore\",drop='if_binary'))\n",
    "\n",
    "preproc_baseline = make_column_transformer(\n",
    "    (preproc_numerical_baseline, make_column_selector(dtype_include=[\"int64\", \"float64\"])),\n",
    "    (preproc_categorical_baseline, make_column_selector(dtype_include=[\"object\"])),\n",
    "    remainder=\"drop\")\n",
    "\n",
    "preproc_baseline"
   ]
  },
  {
   "cell_type": "markdown",
   "id": "d4179509",
   "metadata": {},
   "source": [
    "Let us check the shape of our preprocessed data set:"
   ]
  },
  {
   "cell_type": "code",
   "execution_count": 20,
   "id": "9573e114",
   "metadata": {},
   "outputs": [
    {
     "data": {
      "text/plain": [
       "(8161, 39)"
      ]
     },
     "execution_count": 20,
     "metadata": {},
     "output_type": "execute_result"
    }
   ],
   "source": [
    "shape_preproc_baseline = preproc_baseline.fit_transform(X).shape\n",
    "shape_preproc_baseline"
   ]
  },
  {
   "cell_type": "markdown",
   "id": "4c6554cc",
   "metadata": {},
   "source": [
    "Shape as expected. 39 because of 13 numerical features and 26 categorical ones after enconding. $\\newline$\n",
    "\n",
    "Below we see the preprocessed data set after imputing, encoding and rescaling the data:\n"
   ]
  },
  {
   "cell_type": "code",
   "execution_count": 21,
   "id": "1a0e0481",
   "metadata": {},
   "outputs": [
    {
     "data": {
      "text/html": [
       "<div>\n",
       "<style scoped>\n",
       "    .dataframe tbody tr th:only-of-type {\n",
       "        vertical-align: middle;\n",
       "    }\n",
       "\n",
       "    .dataframe tbody tr th {\n",
       "        vertical-align: top;\n",
       "    }\n",
       "\n",
       "    .dataframe thead th {\n",
       "        text-align: right;\n",
       "    }\n",
       "</style>\n",
       "<table border=\"1\" class=\"dataframe\">\n",
       "  <thead>\n",
       "    <tr style=\"text-align: right;\">\n",
       "      <th></th>\n",
       "      <th>0</th>\n",
       "      <th>1</th>\n",
       "      <th>2</th>\n",
       "      <th>3</th>\n",
       "      <th>4</th>\n",
       "      <th>5</th>\n",
       "      <th>6</th>\n",
       "      <th>7</th>\n",
       "      <th>8</th>\n",
       "      <th>9</th>\n",
       "      <th>...</th>\n",
       "      <th>29</th>\n",
       "      <th>30</th>\n",
       "      <th>31</th>\n",
       "      <th>32</th>\n",
       "      <th>33</th>\n",
       "      <th>34</th>\n",
       "      <th>35</th>\n",
       "      <th>36</th>\n",
       "      <th>37</th>\n",
       "      <th>38</th>\n",
       "    </tr>\n",
       "  </thead>\n",
       "  <tbody>\n",
       "    <tr>\n",
       "      <th>0</th>\n",
       "      <td>0.00</td>\n",
       "      <td>0.676923</td>\n",
       "      <td>0.0</td>\n",
       "      <td>0.478261</td>\n",
       "      <td>0.067552</td>\n",
       "      <td>0.000000</td>\n",
       "      <td>0.065693</td>\n",
       "      <td>0.186547</td>\n",
       "      <td>0.416667</td>\n",
       "      <td>0.004465</td>\n",
       "      <td>...</td>\n",
       "      <td>1.0</td>\n",
       "      <td>1.0</td>\n",
       "      <td>0.0</td>\n",
       "      <td>0.0</td>\n",
       "      <td>0.0</td>\n",
       "      <td>0.0</td>\n",
       "      <td>0.0</td>\n",
       "      <td>1.0</td>\n",
       "      <td>0.0</td>\n",
       "      <td>0.0</td>\n",
       "    </tr>\n",
       "    <tr>\n",
       "      <th>1</th>\n",
       "      <td>0.00</td>\n",
       "      <td>0.415385</td>\n",
       "      <td>0.0</td>\n",
       "      <td>0.478261</td>\n",
       "      <td>0.091724</td>\n",
       "      <td>0.290588</td>\n",
       "      <td>0.124088</td>\n",
       "      <td>0.196952</td>\n",
       "      <td>0.000000</td>\n",
       "      <td>0.000000</td>\n",
       "      <td>...</td>\n",
       "      <td>0.0</td>\n",
       "      <td>1.0</td>\n",
       "      <td>0.0</td>\n",
       "      <td>0.0</td>\n",
       "      <td>0.0</td>\n",
       "      <td>0.0</td>\n",
       "      <td>0.0</td>\n",
       "      <td>1.0</td>\n",
       "      <td>0.0</td>\n",
       "      <td>0.0</td>\n",
       "    </tr>\n",
       "    <tr>\n",
       "      <th>2</th>\n",
       "      <td>0.00</td>\n",
       "      <td>0.292308</td>\n",
       "      <td>0.2</td>\n",
       "      <td>0.434783</td>\n",
       "      <td>0.016087</td>\n",
       "      <td>0.140284</td>\n",
       "      <td>0.000000</td>\n",
       "      <td>0.036782</td>\n",
       "      <td>0.125000</td>\n",
       "      <td>0.038729</td>\n",
       "      <td>...</td>\n",
       "      <td>1.0</td>\n",
       "      <td>0.0</td>\n",
       "      <td>0.0</td>\n",
       "      <td>0.0</td>\n",
       "      <td>0.0</td>\n",
       "      <td>0.0</td>\n",
       "      <td>1.0</td>\n",
       "      <td>0.0</td>\n",
       "      <td>0.0</td>\n",
       "      <td>0.0</td>\n",
       "    </tr>\n",
       "    <tr>\n",
       "      <th>3</th>\n",
       "      <td>0.00</td>\n",
       "      <td>0.538462</td>\n",
       "      <td>0.0</td>\n",
       "      <td>0.608696</td>\n",
       "      <td>0.064953</td>\n",
       "      <td>0.345936</td>\n",
       "      <td>0.197080</td>\n",
       "      <td>0.204279</td>\n",
       "      <td>0.250000</td>\n",
       "      <td>0.000000</td>\n",
       "      <td>...</td>\n",
       "      <td>1.0</td>\n",
       "      <td>1.0</td>\n",
       "      <td>0.0</td>\n",
       "      <td>0.0</td>\n",
       "      <td>0.0</td>\n",
       "      <td>0.0</td>\n",
       "      <td>0.0</td>\n",
       "      <td>1.0</td>\n",
       "      <td>0.0</td>\n",
       "      <td>0.0</td>\n",
       "    </tr>\n",
       "    <tr>\n",
       "      <th>4</th>\n",
       "      <td>0.00</td>\n",
       "      <td>0.523077</td>\n",
       "      <td>0.0</td>\n",
       "      <td>0.456491</td>\n",
       "      <td>0.115332</td>\n",
       "      <td>0.275534</td>\n",
       "      <td>0.226277</td>\n",
       "      <td>0.241794</td>\n",
       "      <td>0.000000</td>\n",
       "      <td>0.019236</td>\n",
       "      <td>...</td>\n",
       "      <td>1.0</td>\n",
       "      <td>0.0</td>\n",
       "      <td>0.0</td>\n",
       "      <td>0.0</td>\n",
       "      <td>0.0</td>\n",
       "      <td>0.0</td>\n",
       "      <td>1.0</td>\n",
       "      <td>0.0</td>\n",
       "      <td>1.0</td>\n",
       "      <td>0.0</td>\n",
       "    </tr>\n",
       "    <tr>\n",
       "      <th>...</th>\n",
       "      <td>...</td>\n",
       "      <td>...</td>\n",
       "      <td>...</td>\n",
       "      <td>...</td>\n",
       "      <td>...</td>\n",
       "      <td>...</td>\n",
       "      <td>...</td>\n",
       "      <td>...</td>\n",
       "      <td>...</td>\n",
       "      <td>...</td>\n",
       "      <td>...</td>\n",
       "      <td>...</td>\n",
       "      <td>...</td>\n",
       "      <td>...</td>\n",
       "      <td>...</td>\n",
       "      <td>...</td>\n",
       "      <td>...</td>\n",
       "      <td>...</td>\n",
       "      <td>...</td>\n",
       "      <td>...</td>\n",
       "      <td>...</td>\n",
       "    </tr>\n",
       "    <tr>\n",
       "      <th>8156</th>\n",
       "      <td>0.00</td>\n",
       "      <td>0.292308</td>\n",
       "      <td>0.0</td>\n",
       "      <td>0.478261</td>\n",
       "      <td>0.043242</td>\n",
       "      <td>0.000000</td>\n",
       "      <td>0.335766</td>\n",
       "      <td>0.378517</td>\n",
       "      <td>0.375000</td>\n",
       "      <td>0.000000</td>\n",
       "      <td>...</td>\n",
       "      <td>0.0</td>\n",
       "      <td>0.0</td>\n",
       "      <td>1.0</td>\n",
       "      <td>0.0</td>\n",
       "      <td>0.0</td>\n",
       "      <td>0.0</td>\n",
       "      <td>0.0</td>\n",
       "      <td>1.0</td>\n",
       "      <td>0.0</td>\n",
       "      <td>1.0</td>\n",
       "    </tr>\n",
       "    <tr>\n",
       "      <th>8157</th>\n",
       "      <td>0.25</td>\n",
       "      <td>0.446154</td>\n",
       "      <td>0.4</td>\n",
       "      <td>0.391304</td>\n",
       "      <td>0.165164</td>\n",
       "      <td>0.436328</td>\n",
       "      <td>0.116788</td>\n",
       "      <td>0.172479</td>\n",
       "      <td>0.583333</td>\n",
       "      <td>0.000000</td>\n",
       "      <td>...</td>\n",
       "      <td>1.0</td>\n",
       "      <td>1.0</td>\n",
       "      <td>0.0</td>\n",
       "      <td>0.0</td>\n",
       "      <td>0.0</td>\n",
       "      <td>0.0</td>\n",
       "      <td>0.0</td>\n",
       "      <td>0.0</td>\n",
       "      <td>0.0</td>\n",
       "      <td>0.0</td>\n",
       "    </tr>\n",
       "    <tr>\n",
       "      <th>8158</th>\n",
       "      <td>0.00</td>\n",
       "      <td>0.461538</td>\n",
       "      <td>0.0</td>\n",
       "      <td>0.391304</td>\n",
       "      <td>0.107527</td>\n",
       "      <td>0.375689</td>\n",
       "      <td>0.226277</td>\n",
       "      <td>0.336899</td>\n",
       "      <td>0.208333</td>\n",
       "      <td>0.000000</td>\n",
       "      <td>...</td>\n",
       "      <td>0.0</td>\n",
       "      <td>0.0</td>\n",
       "      <td>1.0</td>\n",
       "      <td>0.0</td>\n",
       "      <td>0.0</td>\n",
       "      <td>0.0</td>\n",
       "      <td>0.0</td>\n",
       "      <td>0.0</td>\n",
       "      <td>0.0</td>\n",
       "      <td>0.0</td>\n",
       "    </tr>\n",
       "    <tr>\n",
       "      <th>8159</th>\n",
       "      <td>0.00</td>\n",
       "      <td>0.523077</td>\n",
       "      <td>0.0</td>\n",
       "      <td>0.304348</td>\n",
       "      <td>0.043576</td>\n",
       "      <td>0.168588</td>\n",
       "      <td>0.226277</td>\n",
       "      <td>0.308470</td>\n",
       "      <td>0.208333</td>\n",
       "      <td>0.000000</td>\n",
       "      <td>...</td>\n",
       "      <td>1.0</td>\n",
       "      <td>1.0</td>\n",
       "      <td>0.0</td>\n",
       "      <td>0.0</td>\n",
       "      <td>0.0</td>\n",
       "      <td>0.0</td>\n",
       "      <td>0.0</td>\n",
       "      <td>0.0</td>\n",
       "      <td>0.0</td>\n",
       "      <td>0.0</td>\n",
       "    </tr>\n",
       "    <tr>\n",
       "      <th>8160</th>\n",
       "      <td>0.00</td>\n",
       "      <td>0.553846</td>\n",
       "      <td>0.0</td>\n",
       "      <td>0.478261</td>\n",
       "      <td>0.053395</td>\n",
       "      <td>0.222547</td>\n",
       "      <td>0.430657</td>\n",
       "      <td>0.262309</td>\n",
       "      <td>0.208333</td>\n",
       "      <td>0.000000</td>\n",
       "      <td>...</td>\n",
       "      <td>1.0</td>\n",
       "      <td>1.0</td>\n",
       "      <td>0.0</td>\n",
       "      <td>0.0</td>\n",
       "      <td>0.0</td>\n",
       "      <td>0.0</td>\n",
       "      <td>0.0</td>\n",
       "      <td>0.0</td>\n",
       "      <td>0.0</td>\n",
       "      <td>1.0</td>\n",
       "    </tr>\n",
       "  </tbody>\n",
       "</table>\n",
       "<p>8161 rows × 39 columns</p>\n",
       "</div>"
      ],
      "text/plain": [
       "        0         1    2         3         4         5         6         7   \\\n",
       "0     0.00  0.676923  0.0  0.478261  0.067552  0.000000  0.065693  0.186547   \n",
       "1     0.00  0.415385  0.0  0.478261  0.091724  0.290588  0.124088  0.196952   \n",
       "2     0.00  0.292308  0.2  0.434783  0.016087  0.140284  0.000000  0.036782   \n",
       "3     0.00  0.538462  0.0  0.608696  0.064953  0.345936  0.197080  0.204279   \n",
       "4     0.00  0.523077  0.0  0.456491  0.115332  0.275534  0.226277  0.241794   \n",
       "...    ...       ...  ...       ...       ...       ...       ...       ...   \n",
       "8156  0.00  0.292308  0.0  0.478261  0.043242  0.000000  0.335766  0.378517   \n",
       "8157  0.25  0.446154  0.4  0.391304  0.165164  0.436328  0.116788  0.172479   \n",
       "8158  0.00  0.461538  0.0  0.391304  0.107527  0.375689  0.226277  0.336899   \n",
       "8159  0.00  0.523077  0.0  0.304348  0.043576  0.168588  0.226277  0.308470   \n",
       "8160  0.00  0.553846  0.0  0.478261  0.053395  0.222547  0.430657  0.262309   \n",
       "\n",
       "            8         9   ...   29   30   31   32   33   34   35   36   37  \\\n",
       "0     0.416667  0.004465  ...  1.0  1.0  0.0  0.0  0.0  0.0  0.0  1.0  0.0   \n",
       "1     0.000000  0.000000  ...  0.0  1.0  0.0  0.0  0.0  0.0  0.0  1.0  0.0   \n",
       "2     0.125000  0.038729  ...  1.0  0.0  0.0  0.0  0.0  0.0  1.0  0.0  0.0   \n",
       "3     0.250000  0.000000  ...  1.0  1.0  0.0  0.0  0.0  0.0  0.0  1.0  0.0   \n",
       "4     0.000000  0.019236  ...  1.0  0.0  0.0  0.0  0.0  0.0  1.0  0.0  1.0   \n",
       "...        ...       ...  ...  ...  ...  ...  ...  ...  ...  ...  ...  ...   \n",
       "8156  0.375000  0.000000  ...  0.0  0.0  1.0  0.0  0.0  0.0  0.0  1.0  0.0   \n",
       "8157  0.583333  0.000000  ...  1.0  1.0  0.0  0.0  0.0  0.0  0.0  0.0  0.0   \n",
       "8158  0.208333  0.000000  ...  0.0  0.0  1.0  0.0  0.0  0.0  0.0  0.0  0.0   \n",
       "8159  0.208333  0.000000  ...  1.0  1.0  0.0  0.0  0.0  0.0  0.0  0.0  0.0   \n",
       "8160  0.208333  0.000000  ...  1.0  1.0  0.0  0.0  0.0  0.0  0.0  0.0  0.0   \n",
       "\n",
       "       38  \n",
       "0     0.0  \n",
       "1     0.0  \n",
       "2     0.0  \n",
       "3     0.0  \n",
       "4     0.0  \n",
       "...   ...  \n",
       "8156  1.0  \n",
       "8157  0.0  \n",
       "8158  0.0  \n",
       "8159  0.0  \n",
       "8160  1.0  \n",
       "\n",
       "[8161 rows x 39 columns]"
      ]
     },
     "execution_count": 21,
     "metadata": {},
     "output_type": "execute_result"
    }
   ],
   "source": [
    "pd.DataFrame(preproc_baseline.fit_transform(X))"
   ]
  },
  {
   "cell_type": "markdown",
   "id": "bc964fe7",
   "metadata": {},
   "source": [
    "# Model Testing"
   ]
  },
  {
   "cell_type": "markdown",
   "id": "57288b08",
   "metadata": {},
   "source": [
    "Let us now use two models to make predictions.\n",
    "We will start with a logistic regression and then proceed with\n",
    "a support vector classifier. For both we will run a grid search for different hyperparameters."
   ]
  },
  {
   "cell_type": "markdown",
   "id": "89864c47",
   "metadata": {},
   "source": [
    "## Baseline Score"
   ]
  },
  {
   "cell_type": "markdown",
   "id": "ff77c0d2",
   "metadata": {},
   "source": [
    "To get a very naive benchmark, we can determine a baseline accuracy score by considering the number of \"successful claims\" divided by the number of total claims:"
   ]
  },
  {
   "cell_type": "code",
   "execution_count": 216,
   "id": "176023c5",
   "metadata": {},
   "outputs": [
    {
     "data": {
      "text/plain": [
       "0.2638157088592084"
      ]
     },
     "execution_count": 216,
     "metadata": {},
     "output_type": "execute_result"
    }
   ],
   "source": [
    "baseline_score = y.value_counts()[1] / y.value_counts().sum()\n",
    "baseline_score"
   ]
  },
  {
   "cell_type": "markdown",
   "id": "363c9b9b",
   "metadata": {},
   "source": [
    "## Logistic Regression"
   ]
  },
  {
   "cell_type": "markdown",
   "id": "6698ee37",
   "metadata": {},
   "source": [
    "### Grid Search"
   ]
  },
  {
   "cell_type": "markdown",
   "id": "fea5392a",
   "metadata": {},
   "source": [
    "We build a pipeline using the preprocessed data from Section 3 and applying a Logistic Regression Model:\n",
    "\n"
   ]
  },
  {
   "cell_type": "code",
   "execution_count": 556,
   "id": "b8a1bd81",
   "metadata": {},
   "outputs": [],
   "source": [
    "pipe_log = make_pipeline(preproc_baseline, LogisticRegression())"
   ]
  },
  {
   "cell_type": "markdown",
   "id": "e0ac6165",
   "metadata": {},
   "source": [
    "The testing set given in this challenge is unlabelled. Therefore, before performing our gridsearch, a further testing set was defined to yield an unbiased classification table:\n"
   ]
  },
  {
   "cell_type": "code",
   "execution_count": 557,
   "id": "a83a4f02",
   "metadata": {},
   "outputs": [],
   "source": [
    "X_train, X_test, y_train, y_test = train_test_split(X, y, test_size=0.2, random_state=0)"
   ]
  },
  {
   "cell_type": "markdown",
   "id": "51acbd0b",
   "metadata": {},
   "source": [
    "Let us perform a simple grid search. We will optimize for the regularization strength 1/C. Larger values of 1/C specify weaker regularization. $\\newline$\n",
    "\n",
    "We will optimize for F1-score as the savings from loss prevention that we would get if we were scoring for recall need to be balanced with the cost of false alerts."
   ]
  },
  {
   "cell_type": "code",
   "execution_count": 558,
   "id": "19891e38",
   "metadata": {},
   "outputs": [],
   "source": [
    "param_grid = {'logisticregression__C': [0.001, 0.01, 0.1, 1, 10, 100, 1000] }\n",
    "clf = GridSearchCV(pipe_log, param_grid, cv=5, n_jobs=-1, verbose=2, scoring='f1')"
   ]
  },
  {
   "cell_type": "code",
   "execution_count": 559,
   "id": "1476302f",
   "metadata": {},
   "outputs": [
    {
     "name": "stdout",
     "output_type": "stream",
     "text": [
      "Fitting 5 folds for each of 7 candidates, totalling 35 fits\n"
     ]
    },
    {
     "data": {
      "text/html": [
       "<style>#sk-3fb265f4-b74c-48d2-b45d-88b5476e7604 {color: black;background-color: white;}#sk-3fb265f4-b74c-48d2-b45d-88b5476e7604 pre{padding: 0;}#sk-3fb265f4-b74c-48d2-b45d-88b5476e7604 div.sk-toggleable {background-color: white;}#sk-3fb265f4-b74c-48d2-b45d-88b5476e7604 label.sk-toggleable__label {cursor: pointer;display: block;width: 100%;margin-bottom: 0;padding: 0.3em;box-sizing: border-box;text-align: center;}#sk-3fb265f4-b74c-48d2-b45d-88b5476e7604 label.sk-toggleable__label-arrow:before {content: \"▸\";float: left;margin-right: 0.25em;color: #696969;}#sk-3fb265f4-b74c-48d2-b45d-88b5476e7604 label.sk-toggleable__label-arrow:hover:before {color: black;}#sk-3fb265f4-b74c-48d2-b45d-88b5476e7604 div.sk-estimator:hover label.sk-toggleable__label-arrow:before {color: black;}#sk-3fb265f4-b74c-48d2-b45d-88b5476e7604 div.sk-toggleable__content {max-height: 0;max-width: 0;overflow: hidden;text-align: left;background-color: #f0f8ff;}#sk-3fb265f4-b74c-48d2-b45d-88b5476e7604 div.sk-toggleable__content pre {margin: 0.2em;color: black;border-radius: 0.25em;background-color: #f0f8ff;}#sk-3fb265f4-b74c-48d2-b45d-88b5476e7604 input.sk-toggleable__control:checked~div.sk-toggleable__content {max-height: 200px;max-width: 100%;overflow: auto;}#sk-3fb265f4-b74c-48d2-b45d-88b5476e7604 input.sk-toggleable__control:checked~label.sk-toggleable__label-arrow:before {content: \"▾\";}#sk-3fb265f4-b74c-48d2-b45d-88b5476e7604 div.sk-estimator input.sk-toggleable__control:checked~label.sk-toggleable__label {background-color: #d4ebff;}#sk-3fb265f4-b74c-48d2-b45d-88b5476e7604 div.sk-label input.sk-toggleable__control:checked~label.sk-toggleable__label {background-color: #d4ebff;}#sk-3fb265f4-b74c-48d2-b45d-88b5476e7604 input.sk-hidden--visually {border: 0;clip: rect(1px 1px 1px 1px);clip: rect(1px, 1px, 1px, 1px);height: 1px;margin: -1px;overflow: hidden;padding: 0;position: absolute;width: 1px;}#sk-3fb265f4-b74c-48d2-b45d-88b5476e7604 div.sk-estimator {font-family: monospace;background-color: #f0f8ff;border: 1px dotted black;border-radius: 0.25em;box-sizing: border-box;margin-bottom: 0.5em;}#sk-3fb265f4-b74c-48d2-b45d-88b5476e7604 div.sk-estimator:hover {background-color: #d4ebff;}#sk-3fb265f4-b74c-48d2-b45d-88b5476e7604 div.sk-parallel-item::after {content: \"\";width: 100%;border-bottom: 1px solid gray;flex-grow: 1;}#sk-3fb265f4-b74c-48d2-b45d-88b5476e7604 div.sk-label:hover label.sk-toggleable__label {background-color: #d4ebff;}#sk-3fb265f4-b74c-48d2-b45d-88b5476e7604 div.sk-serial::before {content: \"\";position: absolute;border-left: 1px solid gray;box-sizing: border-box;top: 2em;bottom: 0;left: 50%;}#sk-3fb265f4-b74c-48d2-b45d-88b5476e7604 div.sk-serial {display: flex;flex-direction: column;align-items: center;background-color: white;padding-right: 0.2em;padding-left: 0.2em;}#sk-3fb265f4-b74c-48d2-b45d-88b5476e7604 div.sk-item {z-index: 1;}#sk-3fb265f4-b74c-48d2-b45d-88b5476e7604 div.sk-parallel {display: flex;align-items: stretch;justify-content: center;background-color: white;}#sk-3fb265f4-b74c-48d2-b45d-88b5476e7604 div.sk-parallel::before {content: \"\";position: absolute;border-left: 1px solid gray;box-sizing: border-box;top: 2em;bottom: 0;left: 50%;}#sk-3fb265f4-b74c-48d2-b45d-88b5476e7604 div.sk-parallel-item {display: flex;flex-direction: column;position: relative;background-color: white;}#sk-3fb265f4-b74c-48d2-b45d-88b5476e7604 div.sk-parallel-item:first-child::after {align-self: flex-end;width: 50%;}#sk-3fb265f4-b74c-48d2-b45d-88b5476e7604 div.sk-parallel-item:last-child::after {align-self: flex-start;width: 50%;}#sk-3fb265f4-b74c-48d2-b45d-88b5476e7604 div.sk-parallel-item:only-child::after {width: 0;}#sk-3fb265f4-b74c-48d2-b45d-88b5476e7604 div.sk-dashed-wrapped {border: 1px dashed gray;margin: 0 0.4em 0.5em 0.4em;box-sizing: border-box;padding-bottom: 0.4em;background-color: white;position: relative;}#sk-3fb265f4-b74c-48d2-b45d-88b5476e7604 div.sk-label label {font-family: monospace;font-weight: bold;background-color: white;display: inline-block;line-height: 1.2em;}#sk-3fb265f4-b74c-48d2-b45d-88b5476e7604 div.sk-label-container {position: relative;z-index: 2;text-align: center;}#sk-3fb265f4-b74c-48d2-b45d-88b5476e7604 div.sk-container {/* jupyter's `normalize.less` sets `[hidden] { display: none; }` but bootstrap.min.css set `[hidden] { display: none !important; }` so we also need the `!important` here to be able to override the default hidden behavior on the sphinx rendered scikit-learn.org. See: https://github.com/scikit-learn/scikit-learn/issues/21755 */display: inline-block !important;position: relative;}#sk-3fb265f4-b74c-48d2-b45d-88b5476e7604 div.sk-text-repr-fallback {display: none;}</style><div id=\"sk-3fb265f4-b74c-48d2-b45d-88b5476e7604\" class=\"sk-top-container\"><div class=\"sk-text-repr-fallback\"><pre>GridSearchCV(cv=5,\n",
       "             estimator=Pipeline(steps=[(&#x27;columntransformer&#x27;,\n",
       "                                        ColumnTransformer(transformers=[(&#x27;pipeline-1&#x27;,\n",
       "                                                                         Pipeline(steps=[(&#x27;simpleimputer&#x27;,\n",
       "                                                                                          SimpleImputer()),\n",
       "                                                                                         (&#x27;minmaxscaler&#x27;,\n",
       "                                                                                          MinMaxScaler())]),\n",
       "                                                                         &lt;sklearn.compose._column_transformer.make_column_selector object at 0x7f6a024c10d0&gt;),\n",
       "                                                                        (&#x27;pipeline-2&#x27;,\n",
       "                                                                         Pipeline(steps=[(&#x27;simpleimputer&#x27;,\n",
       "                                                                                          SimpleImputer(strategy=&#x27;most_frequent&#x27;)),\n",
       "                                                                                         (&#x27;onehotencoder&#x27;,\n",
       "                                                                                          OneHotEncoder(drop=&#x27;if_binary&#x27;,\n",
       "                                                                                                        handle_unknown=&#x27;ignore&#x27;,\n",
       "                                                                                                        sparse=False))]),\n",
       "                                                                         &lt;sklearn.compose._column_transformer.make_column_selector object at 0x7f6a024c1d30&gt;)])),\n",
       "                                       (&#x27;logisticregression&#x27;,\n",
       "                                        LogisticRegression())]),\n",
       "             n_jobs=-1,\n",
       "             param_grid={&#x27;logisticregression__C&#x27;: [0.001, 0.01, 0.1, 1, 10, 100,\n",
       "                                                   1000]},\n",
       "             scoring=&#x27;f1&#x27;, verbose=2)</pre><b>Please rerun this cell to show the HTML repr or trust the notebook.</b></div><div class=\"sk-container\" hidden><div class=\"sk-item sk-dashed-wrapped\"><div class=\"sk-label-container\"><div class=\"sk-label sk-toggleable\"><input class=\"sk-toggleable__control sk-hidden--visually\" id=\"9fb0016a-dd35-4fb6-a66a-66884855f7ad\" type=\"checkbox\" ><label for=\"9fb0016a-dd35-4fb6-a66a-66884855f7ad\" class=\"sk-toggleable__label sk-toggleable__label-arrow\">GridSearchCV</label><div class=\"sk-toggleable__content\"><pre>GridSearchCV(cv=5,\n",
       "             estimator=Pipeline(steps=[(&#x27;columntransformer&#x27;,\n",
       "                                        ColumnTransformer(transformers=[(&#x27;pipeline-1&#x27;,\n",
       "                                                                         Pipeline(steps=[(&#x27;simpleimputer&#x27;,\n",
       "                                                                                          SimpleImputer()),\n",
       "                                                                                         (&#x27;minmaxscaler&#x27;,\n",
       "                                                                                          MinMaxScaler())]),\n",
       "                                                                         &lt;sklearn.compose._column_transformer.make_column_selector object at 0x7f6a024c10d0&gt;),\n",
       "                                                                        (&#x27;pipeline-2&#x27;,\n",
       "                                                                         Pipeline(steps=[(&#x27;simpleimputer&#x27;,\n",
       "                                                                                          SimpleImputer(strategy=&#x27;most_frequent&#x27;)),\n",
       "                                                                                         (&#x27;onehotencoder&#x27;,\n",
       "                                                                                          OneHotEncoder(drop=&#x27;if_binary&#x27;,\n",
       "                                                                                                        handle_unknown=&#x27;ignore&#x27;,\n",
       "                                                                                                        sparse=False))]),\n",
       "                                                                         &lt;sklearn.compose._column_transformer.make_column_selector object at 0x7f6a024c1d30&gt;)])),\n",
       "                                       (&#x27;logisticregression&#x27;,\n",
       "                                        LogisticRegression())]),\n",
       "             n_jobs=-1,\n",
       "             param_grid={&#x27;logisticregression__C&#x27;: [0.001, 0.01, 0.1, 1, 10, 100,\n",
       "                                                   1000]},\n",
       "             scoring=&#x27;f1&#x27;, verbose=2)</pre></div></div></div><div class=\"sk-parallel\"><div class=\"sk-parallel-item\"><div class=\"sk-item\"><div class=\"sk-serial\"><div class=\"sk-item\"><div class=\"sk-serial\"><div class=\"sk-item sk-dashed-wrapped\"><div class=\"sk-label-container\"><div class=\"sk-label sk-toggleable\"><input class=\"sk-toggleable__control sk-hidden--visually\" id=\"8678a752-799b-4e59-9f49-9ba22e905896\" type=\"checkbox\" ><label for=\"8678a752-799b-4e59-9f49-9ba22e905896\" class=\"sk-toggleable__label sk-toggleable__label-arrow\">columntransformer: ColumnTransformer</label><div class=\"sk-toggleable__content\"><pre>ColumnTransformer(transformers=[(&#x27;pipeline-1&#x27;,\n",
       "                                 Pipeline(steps=[(&#x27;simpleimputer&#x27;,\n",
       "                                                  SimpleImputer()),\n",
       "                                                 (&#x27;minmaxscaler&#x27;,\n",
       "                                                  MinMaxScaler())]),\n",
       "                                 &lt;sklearn.compose._column_transformer.make_column_selector object at 0x7f6a024c10d0&gt;),\n",
       "                                (&#x27;pipeline-2&#x27;,\n",
       "                                 Pipeline(steps=[(&#x27;simpleimputer&#x27;,\n",
       "                                                  SimpleImputer(strategy=&#x27;most_frequent&#x27;)),\n",
       "                                                 (&#x27;onehotencoder&#x27;,\n",
       "                                                  OneHotEncoder(drop=&#x27;if_binary&#x27;,\n",
       "                                                                handle_unknown=&#x27;ignore&#x27;,\n",
       "                                                                sparse=False))]),\n",
       "                                 &lt;sklearn.compose._column_transformer.make_column_selector object at 0x7f6a024c1d30&gt;)])</pre></div></div></div><div class=\"sk-parallel\"><div class=\"sk-parallel-item\"><div class=\"sk-item\"><div class=\"sk-label-container\"><div class=\"sk-label sk-toggleable\"><input class=\"sk-toggleable__control sk-hidden--visually\" id=\"622a6344-ad08-44c1-a77b-1e462aa438d2\" type=\"checkbox\" ><label for=\"622a6344-ad08-44c1-a77b-1e462aa438d2\" class=\"sk-toggleable__label sk-toggleable__label-arrow\">pipeline-1</label><div class=\"sk-toggleable__content\"><pre>&lt;sklearn.compose._column_transformer.make_column_selector object at 0x7f6a024c10d0&gt;</pre></div></div></div><div class=\"sk-serial\"><div class=\"sk-item\"><div class=\"sk-serial\"><div class=\"sk-item\"><div class=\"sk-estimator sk-toggleable\"><input class=\"sk-toggleable__control sk-hidden--visually\" id=\"62ce8a31-9dec-4e1e-9ba8-58ddabad38c7\" type=\"checkbox\" ><label for=\"62ce8a31-9dec-4e1e-9ba8-58ddabad38c7\" class=\"sk-toggleable__label sk-toggleable__label-arrow\">SimpleImputer</label><div class=\"sk-toggleable__content\"><pre>SimpleImputer()</pre></div></div></div><div class=\"sk-item\"><div class=\"sk-estimator sk-toggleable\"><input class=\"sk-toggleable__control sk-hidden--visually\" id=\"a3df7ba7-adf9-4ead-be65-3b4052904f28\" type=\"checkbox\" ><label for=\"a3df7ba7-adf9-4ead-be65-3b4052904f28\" class=\"sk-toggleable__label sk-toggleable__label-arrow\">MinMaxScaler</label><div class=\"sk-toggleable__content\"><pre>MinMaxScaler()</pre></div></div></div></div></div></div></div></div><div class=\"sk-parallel-item\"><div class=\"sk-item\"><div class=\"sk-label-container\"><div class=\"sk-label sk-toggleable\"><input class=\"sk-toggleable__control sk-hidden--visually\" id=\"12f1b3de-4dd7-467e-9c28-330d160bea2c\" type=\"checkbox\" ><label for=\"12f1b3de-4dd7-467e-9c28-330d160bea2c\" class=\"sk-toggleable__label sk-toggleable__label-arrow\">pipeline-2</label><div class=\"sk-toggleable__content\"><pre>&lt;sklearn.compose._column_transformer.make_column_selector object at 0x7f6a024c1d30&gt;</pre></div></div></div><div class=\"sk-serial\"><div class=\"sk-item\"><div class=\"sk-serial\"><div class=\"sk-item\"><div class=\"sk-estimator sk-toggleable\"><input class=\"sk-toggleable__control sk-hidden--visually\" id=\"350d792a-e1d2-45f8-9ac7-b4e5ce1d6306\" type=\"checkbox\" ><label for=\"350d792a-e1d2-45f8-9ac7-b4e5ce1d6306\" class=\"sk-toggleable__label sk-toggleable__label-arrow\">SimpleImputer</label><div class=\"sk-toggleable__content\"><pre>SimpleImputer(strategy=&#x27;most_frequent&#x27;)</pre></div></div></div><div class=\"sk-item\"><div class=\"sk-estimator sk-toggleable\"><input class=\"sk-toggleable__control sk-hidden--visually\" id=\"f8505495-1614-47a0-9d7c-2eede296db88\" type=\"checkbox\" ><label for=\"f8505495-1614-47a0-9d7c-2eede296db88\" class=\"sk-toggleable__label sk-toggleable__label-arrow\">OneHotEncoder</label><div class=\"sk-toggleable__content\"><pre>OneHotEncoder(drop=&#x27;if_binary&#x27;, handle_unknown=&#x27;ignore&#x27;, sparse=False)</pre></div></div></div></div></div></div></div></div></div></div><div class=\"sk-item\"><div class=\"sk-estimator sk-toggleable\"><input class=\"sk-toggleable__control sk-hidden--visually\" id=\"3e715b5a-7f68-497f-8127-3a856fee8aee\" type=\"checkbox\" ><label for=\"3e715b5a-7f68-497f-8127-3a856fee8aee\" class=\"sk-toggleable__label sk-toggleable__label-arrow\">LogisticRegression</label><div class=\"sk-toggleable__content\"><pre>LogisticRegression()</pre></div></div></div></div></div></div></div></div></div></div></div></div>"
      ],
      "text/plain": [
       "GridSearchCV(cv=5,\n",
       "             estimator=Pipeline(steps=[('columntransformer',\n",
       "                                        ColumnTransformer(transformers=[('pipeline-1',\n",
       "                                                                         Pipeline(steps=[('simpleimputer',\n",
       "                                                                                          SimpleImputer()),\n",
       "                                                                                         ('minmaxscaler',\n",
       "                                                                                          MinMaxScaler())]),\n",
       "                                                                         <sklearn.compose._column_transformer.make_column_selector object at 0x7f6a024c10d0>),\n",
       "                                                                        ('pipeline-2',\n",
       "                                                                         Pipeline(steps=[('simpleimputer',\n",
       "                                                                                          SimpleImputer(strategy='most_frequent')),\n",
       "                                                                                         ('onehotencoder',\n",
       "                                                                                          OneHotEncoder(drop='if_binary',\n",
       "                                                                                                        handle_unknown='ignore',\n",
       "                                                                                                        sparse=False))]),\n",
       "                                                                         <sklearn.compose._column_transformer.make_column_selector object at 0x7f6a024c1d30>)])),\n",
       "                                       ('logisticregression',\n",
       "                                        LogisticRegression())]),\n",
       "             n_jobs=-1,\n",
       "             param_grid={'logisticregression__C': [0.001, 0.01, 0.1, 1, 10, 100,\n",
       "                                                   1000]},\n",
       "             scoring='f1', verbose=2)"
      ]
     },
     "execution_count": 559,
     "metadata": {},
     "output_type": "execute_result"
    }
   ],
   "source": [
    "clf.fit(X_train, y_train)"
   ]
  },
  {
   "cell_type": "markdown",
   "id": "a0ece2b8",
   "metadata": {},
   "source": [
    "Best parameters obtained through Grid Search and f1 score:"
   ]
  },
  {
   "cell_type": "code",
   "execution_count": 560,
   "id": "bd65ce4e",
   "metadata": {},
   "outputs": [
    {
     "name": "stdout",
     "output_type": "stream",
     "text": [
      "{'logisticregression__C': 100}\n"
     ]
    },
    {
     "data": {
      "text/plain": [
       "0.517976929297199"
      ]
     },
     "execution_count": 560,
     "metadata": {},
     "output_type": "execute_result"
    }
   ],
   "source": [
    "print(clf.best_params_)\n",
    "clf.best_score_  # Score is 'f1'"
   ]
  },
  {
   "cell_type": "markdown",
   "id": "d01ba16b",
   "metadata": {},
   "source": [
    "Below we show the classification report and the confusion matrix:"
   ]
  },
  {
   "cell_type": "code",
   "execution_count": 561,
   "id": "1d3bf51d",
   "metadata": {},
   "outputs": [
    {
     "name": "stdout",
     "output_type": "stream",
     "text": [
      "              precision    recall  f1-score   support\n",
      "\n",
      "           0       0.82      0.90      0.86      1210\n",
      "           1       0.62      0.44      0.52       423\n",
      "\n",
      "    accuracy                           0.79      1633\n",
      "   macro avg       0.72      0.67      0.69      1633\n",
      "weighted avg       0.77      0.79      0.77      1633\n",
      "\n"
     ]
    }
   ],
   "source": [
    "y_pred_log = clf.best_estimator_.predict(X_test)\n",
    "print(classification_report(y_test,y_pred_log))"
   ]
  },
  {
   "cell_type": "markdown",
   "id": "33f7cc84",
   "metadata": {},
   "source": [
    "In particular, we can compare the accuracy to our naive baseline accuracy of 0.26 that we obtained in Section 4.1."
   ]
  },
  {
   "cell_type": "markdown",
   "id": "44d2ba0f",
   "metadata": {
    "heading_collapsed": true
   },
   "source": [
    "##### Recall vs Precision"
   ]
  },
  {
   "cell_type": "markdown",
   "id": "73c575e8",
   "metadata": {
    "hidden": true
   },
   "source": [
    "In order to manually weight recall against precision we could also modify the threshold probability to be 0 or 1 as shown below. This part can be skipped if wanted as it only discusses the possibility of resetting the threshold probability."
   ]
  },
  {
   "cell_type": "code",
   "execution_count": 286,
   "id": "d2284def",
   "metadata": {
    "hidden": true
   },
   "outputs": [],
   "source": [
    "pred_proba_df = pd.DataFrame(pipe_log_opt.predict_proba(X_test))"
   ]
  },
  {
   "cell_type": "code",
   "execution_count": 287,
   "id": "73a30736",
   "metadata": {
    "hidden": true
   },
   "outputs": [
    {
     "name": "stdout",
     "output_type": "stream",
     "text": [
      "\n",
      "******** For i = 0.05 ******\n",
      "Our testing accuracy is 0.41195931871094227\n",
      "[[1250 4758]\n",
      " [  41 2112]]\n",
      "\n",
      "******** For i = 0.1 ******\n",
      "Our testing accuracy is 0.5363313319446146\n",
      "[[2354 3654]\n",
      " [ 130 2023]]\n",
      "\n",
      "******** For i = 0.15 ******\n",
      "Our testing accuracy is 0.6181840460727852\n",
      "[[3128 2880]\n",
      " [ 236 1917]]\n",
      "\n",
      "******** For i = 0.2 ******\n",
      "Our testing accuracy is 0.6755299595637789\n",
      "[[3712 2296]\n",
      " [ 352 1801]]\n",
      "\n",
      "******** For i = 0.25 ******\n",
      "Our testing accuracy is 0.7159661806151207\n",
      "[[4155 1853]\n",
      " [ 465 1688]]\n",
      "\n",
      "******** For i = 0.3 ******\n",
      "Our testing accuracy is 0.742065923293714\n",
      "[[4545 1463]\n",
      " [ 642 1511]]\n",
      "\n",
      "******** For i = 0.35 ******\n",
      "Our testing accuracy is 0.770616346036025\n",
      "[[4914 1094]\n",
      " [ 778 1375]]\n",
      "\n",
      "******** For i = 0.4 ******\n",
      "Our testing accuracy is 0.7817669403259404\n",
      "[[5176  832]\n",
      " [ 949 1204]]\n",
      "\n",
      "******** For i = 0.45 ******\n",
      "Our testing accuracy is 0.7908344565616958\n",
      "[[5397  611]\n",
      " [1096 1057]]\n",
      "\n",
      "******** For i = 0.5 ******\n",
      "Our testing accuracy is 0.7919372625903688\n",
      "[[5553  455]\n",
      " [1243  910]]\n",
      "\n",
      "******** For i = 0.55 ******\n",
      "Our testing accuracy is 0.7853204264183311\n",
      "[[5668  340]\n",
      " [1412  741]]\n",
      "\n",
      "******** For i = 0.6 ******\n",
      "Our testing accuracy is 0.7821345423354981\n",
      "[[5792  216]\n",
      " [1562  591]]\n",
      "\n",
      "******** For i = 0.65 ******\n",
      "Our testing accuracy is 0.7739247641220439\n",
      "[[5864  144]\n",
      " [1701  452]]\n",
      "\n",
      "******** For i = 0.7 ******\n",
      "Our testing accuracy is 0.7651023158926602\n",
      "[[5906  102]\n",
      " [1815  338]]\n",
      "\n",
      "******** For i = 0.75 ******\n",
      "Our testing accuracy is 0.7565249356696483\n",
      "[[5938   70]\n",
      " [1917  236]]\n",
      "\n",
      "******** For i = 0.8 ******\n",
      "Our testing accuracy is 0.7485602254625658\n",
      "[[5970   38]\n",
      " [2014  139]]\n",
      "\n",
      "******** For i = 0.85 ******\n",
      "Our testing accuracy is 0.7425560593064575\n",
      "[[5994   14]\n",
      " [2087   66]]\n",
      "\n",
      "******** For i = 0.9 ******\n",
      "Our testing accuracy is 0.7382673691949516\n",
      "[[6002    6]\n",
      " [2130   23]]\n",
      "\n",
      "******** For i = 0.95 ******\n",
      "Our testing accuracy is 0.7364293591471633\n",
      "[[6007    1]\n",
      " [2150    3]]\n",
      "\n",
      "******** For i = 0.99 ******\n",
      "Our testing accuracy is 0.7361842911407915\n",
      "[[6008    0]\n",
      " [2153    0]]\n"
     ]
    }
   ],
   "source": [
    "pred_proba_df = pd.DataFrame(pipe_log_opt.predict_proba(X_test))\n",
    "threshold_list = [0.05,0.1,0.15,0.2,0.25,0.3,0.35,0.4,0.45,0.5,0.55,0.6,0.65,.7,.75,.8,.85,.9,.95,.99]\n",
    "for i in threshold_list:\n",
    "    print ('\\n******** For i = {} ******'.format(i))\n",
    "    y_test_pred = pred_proba_df.applymap(lambda x: 1 if x>i else 0)\n",
    "    test_accuracy = accuracy_score(y_test.to_numpy().reshape(y_test.to_numpy().size,1),\n",
    "                                           y_test_pred.iloc[:,1].to_numpy().reshape(y_test_pred.iloc[:,1].to_numpy().size,1))\n",
    "    print('Our testing accuracy is {}'.format(test_accuracy))\n",
    "\n",
    "    print(confusion_matrix(y_test.to_numpy().reshape(y_test.to_numpy().size,1),\n",
    "                           y_test_pred.iloc[:,1].to_numpy().reshape(y_test_pred.iloc[:,1].to_numpy().size,1)))"
   ]
  },
  {
   "cell_type": "markdown",
   "id": "43b71e60",
   "metadata": {
    "hidden": true
   },
   "source": [
    "In the following, however, we will not reset out threshold probabilities "
   ]
  },
  {
   "cell_type": "markdown",
   "id": "fe01ce22",
   "metadata": {},
   "source": [
    "### Learning Curves"
   ]
  },
  {
   "cell_type": "markdown",
   "id": "a72466bb",
   "metadata": {},
   "source": [
    "Let us check whether we might be facing issues with over/underfitting and plot the learning curves for our optimal Logarithmic Regression model with C = 100:"
   ]
  },
  {
   "cell_type": "code",
   "execution_count": 562,
   "id": "6515dcaf",
   "metadata": {},
   "outputs": [],
   "source": [
    "X_pre = pd.DataFrame(preproc_baseline.fit_transform(X))"
   ]
  },
  {
   "cell_type": "code",
   "execution_count": 563,
   "id": "695cfee1",
   "metadata": {},
   "outputs": [],
   "source": [
    "train_sizes = range(1000, 6500, 100)\n",
    "\n",
    "# Get train sizes, train scores, and validation scores using `learning_curve`\n",
    "train_sizes, train_scores, test_scores = learning_curve(\n",
    "    estimator=LogisticRegression(C = 100), X=X_pre, y=y, train_sizes=train_sizes, cv=5)\n",
    "\n",
    "# Take the mean of cross-validated train scores and validation scores\n",
    "train_scores_mean = np.mean(train_scores, axis=1)\n",
    "test_scores_mean = np.mean(test_scores, axis=1)"
   ]
  },
  {
   "cell_type": "code",
   "execution_count": 564,
   "id": "37ebb312",
   "metadata": {
    "scrolled": true
   },
   "outputs": [
    {
     "data": {
      "text/plain": [
       "<matplotlib.legend.Legend at 0x7f69fd5b8be0>"
      ]
     },
     "execution_count": 564,
     "metadata": {},
     "output_type": "execute_result"
    },
    {
     "data": {
      "image/png": "[encoded data removed]",
      "text/plain": [
       "<Figure size 432x288 with 1 Axes>"
      ]
     },
     "metadata": {
      "needs_background": "light"
     },
     "output_type": "display_data"
    }
   ],
   "source": [
    "plt.plot(train_sizes, train_scores_mean, label = 'Training score')\n",
    "plt.plot(train_sizes, test_scores_mean, label = 'Test score')\n",
    "plt.ylabel('score', fontsize = 14)\n",
    "plt.xlabel('Training set size', fontsize = 14)\n",
    "plt.title('Learning curves', fontsize = 18, y = 1.03)\n",
    "plt.legend()"
   ]
  },
  {
   "cell_type": "markdown",
   "id": "bdf64197",
   "metadata": {},
   "source": [
    "The curves start converging approximately well from 3000 onwards. We can therefore use our training set to fit our model and make predictions on the test set."
   ]
  },
  {
   "cell_type": "markdown",
   "id": "1e1a70fa",
   "metadata": {},
   "source": [
    "## SVM"
   ]
  },
  {
   "cell_type": "markdown",
   "id": "752090f0",
   "metadata": {},
   "source": [
    "Let us get a quick first estimate by using a non-finetuned SVC"
   ]
  },
  {
   "cell_type": "code",
   "execution_count": 391,
   "id": "8fa4707e",
   "metadata": {},
   "outputs": [],
   "source": [
    "svc = SVC(kernel='rbf', C=0.4)"
   ]
  },
  {
   "cell_type": "code",
   "execution_count": 392,
   "id": "bc767ca7",
   "metadata": {},
   "outputs": [
    {
     "data": {
      "text/plain": [
       "0.4066983149702219"
      ]
     },
     "execution_count": 392,
     "metadata": {},
     "output_type": "execute_result"
    }
   ],
   "source": [
    "pipe_ridge = make_pipeline(preproc_baseline, svc)\n",
    "cross_val_score(pipe_ridge, X, y, cv=5, scoring='f1').mean()"
   ]
  },
  {
   "cell_type": "code",
   "execution_count": 394,
   "id": "f134a53f",
   "metadata": {},
   "outputs": [
    {
     "data": {
      "text/plain": [
       "<matplotlib.legend.Legend at 0x7f6a5074e8b0>"
      ]
     },
     "execution_count": 394,
     "metadata": {},
     "output_type": "execute_result"
    },
    {
     "data": {
      "image/png": "[encoded data removed]",
      "text/plain": [
       "<Figure size 432x288 with 1 Axes>"
      ]
     },
     "metadata": {
      "needs_background": "light"
     },
     "output_type": "display_data"
    }
   ],
   "source": [
    "train_sizes = range(250, 4500, 500)\n",
    "\n",
    "# Get train sizes, train scores, and validation scores using `learning_curve`\n",
    "train_sizes_svc, train_scores_svc, test_scores_svc = learning_curve(\n",
    "    estimator=svc, X=X_pre, y=y, train_sizes=train_sizes, cv=3)\n",
    "\n",
    "# Take the mean of cross-validated train scores and validation scores\n",
    "train_scores_svc_mean = np.mean(train_scores_svc, axis=1)\n",
    "test_scores_svc_mean = np.mean(test_scores_svc, axis=1)\n",
    "\n",
    "plt.plot(train_sizes_svc, train_scores_svc_mean, label = 'Training score')\n",
    "plt.plot(train_sizes_svc, test_scores_svc_mean, label = 'Test score')\n",
    "plt.ylabel('score', fontsize = 14)\n",
    "plt.xlabel('Training set size', fontsize = 14)\n",
    "plt.title('Learning curves', fontsize = 18, y = 1.03)\n",
    "plt.legend()"
   ]
  },
  {
   "cell_type": "markdown",
   "id": "87121a91",
   "metadata": {},
   "source": [
    "Convergence is not optimal as there is not data available. We see that SVC is less sensitive to overfitting initially (which can be seen by the difference between training and test score) due to a strong effect of regularization at small training set sizes."
   ]
  },
  {
   "cell_type": "markdown",
   "id": "2b39ad8d",
   "metadata": {},
   "source": [
    "### Grid search to find optimal parameters"
   ]
  },
  {
   "cell_type": "markdown",
   "id": "9134cf0a",
   "metadata": {},
   "source": [
    "The testing set given in this challenge is unlabelled. Therefore, before performing our gridsearch, a further testing set was defined to yield an unbiased classification table:"
   ]
  },
  {
   "cell_type": "code",
   "execution_count": 497,
   "id": "d5969bc5",
   "metadata": {},
   "outputs": [],
   "source": [
    "X_train, X_test, y_train, y_test = train_test_split(X, y, test_size=0.2, random_state=0)"
   ]
  },
  {
   "cell_type": "markdown",
   "id": "91ac8d11",
   "metadata": {},
   "source": [
    "Let us now find optimal parameters for the regulariation hyperparameter C and gamma, which controls the distance of influence of a single training point. We could also optimize for the kernel using a linear one for example. As this is time-consuming we refrain from also optimizing for different kernels in this notebook."
   ]
  },
  {
   "cell_type": "code",
   "execution_count": 509,
   "id": "66323391",
   "metadata": {},
   "outputs": [
    {
     "name": "stdout",
     "output_type": "stream",
     "text": [
      "Fitting 3 folds for each of 6 candidates, totalling 18 fits\n",
      "{'svc__C': 10, 'svc__gamma': 0.1}\n"
     ]
    },
    {
     "data": {
      "text/plain": [
       "0.5092790166705042"
      ]
     },
     "execution_count": 509,
     "metadata": {},
     "output_type": "execute_result"
    }
   ],
   "source": [
    "param_grid = {'svc__C':[0.1,1,10],'svc__gamma':[0.1,0.001]}\n",
    "search_ridge = GridSearchCV(pipe_ridge, param_grid=param_grid, \n",
    "                          cv=3, n_jobs=-1, verbose=2, scoring='f1')\n",
    "\n",
    "search_ridge.fit(X_train, y_train);\n",
    "print(search_ridge.best_params_)\n",
    "search_ridge.best_score_"
   ]
  },
  {
   "cell_type": "markdown",
   "id": "b55fbf4f",
   "metadata": {},
   "source": [
    "Let us use the best hyperparameters found by our grid search and plot its learning curves to check whether overfitting might be an issue:"
   ]
  },
  {
   "cell_type": "code",
   "execution_count": 512,
   "id": "bb0a5f03",
   "metadata": {},
   "outputs": [],
   "source": [
    "svc_opt = SVC(kernel='rbf', C=10, gamma = 0.1,probability=True)"
   ]
  },
  {
   "cell_type": "code",
   "execution_count": 535,
   "id": "06b2c63a",
   "metadata": {},
   "outputs": [],
   "source": [
    "X_pre = pd.DataFrame(preproc_baseline.fit_transform(X))"
   ]
  },
  {
   "cell_type": "code",
   "execution_count": 537,
   "id": "b9b8091a",
   "metadata": {},
   "outputs": [
    {
     "data": {
      "text/plain": [
       "<matplotlib.legend.Legend at 0x7f69ff673970>"
      ]
     },
     "execution_count": 537,
     "metadata": {},
     "output_type": "execute_result"
    },
    {
     "data": {
      "image/png": "[encoded data removed]",
      "text/plain": [
       "<Figure size 432x288 with 1 Axes>"
      ]
     },
     "metadata": {
      "needs_background": "light"
     },
     "output_type": "display_data"
    }
   ],
   "source": [
    "train_sizes = range(100, 5600, 500)\n",
    "\n",
    "# Get  train sizes, and validation scores using `learning_curve`\n",
    "train_sizes_svc, train_scores_svc, test_scores_svc = learning_curve(\n",
    "    estimator=svc_opt, X=X_pre, y=y, train_sizes=train_sizes, cv=3)\n",
    "\n",
    "# Take the mean of cross-validated train scores and validation scores\n",
    "train_scores_svc_mean = np.mean(train_scores_svc, axis=1)\n",
    "test_scores_svc_mean = np.mean(test_scores_svc, axis=1)\n",
    "\n",
    "plt.plot(train_sizes_svc, train_scores_svc_mean, label = 'Training score')\n",
    "plt.plot(train_sizes_svc, test_scores_svc_mean, label = 'Test score')\n",
    "plt.ylabel('score', fontsize = 14)\n",
    "plt.xlabel('Training set size', fontsize = 14)\n",
    "plt.title('Learning curves', fontsize = 18, y = 1.03)\n",
    "plt.legend()"
   ]
  },
  {
   "cell_type": "markdown",
   "id": "1c4a9217",
   "metadata": {},
   "source": [
    "Let us have a look at the score of our model (and the f1-score in particular):"
   ]
  },
  {
   "cell_type": "code",
   "execution_count": 526,
   "id": "9c1e7dbe",
   "metadata": {},
   "outputs": [],
   "source": [
    "y_pred_svc = search_ridge.best_estimator_.predict(X_test)"
   ]
  },
  {
   "cell_type": "code",
   "execution_count": 529,
   "id": "b3caff79",
   "metadata": {},
   "outputs": [
    {
     "name": "stdout",
     "output_type": "stream",
     "text": [
      "              precision    recall  f1-score   support\n",
      "\n",
      "           0       0.81      0.91      0.85      1813\n",
      "           1       0.59      0.39      0.47       636\n",
      "\n",
      "    accuracy                           0.77      2449\n",
      "   macro avg       0.70      0.65      0.66      2449\n",
      "weighted avg       0.75      0.77      0.76      2449\n",
      "\n"
     ]
    }
   ],
   "source": [
    "print(classification_report(y_test,y_pred_svc))"
   ]
  },
  {
   "cell_type": "markdown",
   "id": "6f67f076",
   "metadata": {},
   "source": [
    "# Generating result files"
   ]
  },
  {
   "cell_type": "markdown",
   "id": "cc282436",
   "metadata": {},
   "source": [
    "Due to better convergence when plotting the learning curves and similar scoring,we will use our 'optimal' Logistic Regression model."
   ]
  },
  {
   "cell_type": "code",
   "execution_count": 568,
   "id": "6ad473e6",
   "metadata": {},
   "outputs": [
    {
     "data": {
      "text/html": [
       "<style>#sk-3868d2fb-23f8-4af1-a7dd-0cea8452d6cc {color: black;background-color: white;}#sk-3868d2fb-23f8-4af1-a7dd-0cea8452d6cc pre{padding: 0;}#sk-3868d2fb-23f8-4af1-a7dd-0cea8452d6cc div.sk-toggleable {background-color: white;}#sk-3868d2fb-23f8-4af1-a7dd-0cea8452d6cc label.sk-toggleable__label {cursor: pointer;display: block;width: 100%;margin-bottom: 0;padding: 0.3em;box-sizing: border-box;text-align: center;}#sk-3868d2fb-23f8-4af1-a7dd-0cea8452d6cc label.sk-toggleable__label-arrow:before {content: \"▸\";float: left;margin-right: 0.25em;color: #696969;}#sk-3868d2fb-23f8-4af1-a7dd-0cea8452d6cc label.sk-toggleable__label-arrow:hover:before {color: black;}#sk-3868d2fb-23f8-4af1-a7dd-0cea8452d6cc div.sk-estimator:hover label.sk-toggleable__label-arrow:before {color: black;}#sk-3868d2fb-23f8-4af1-a7dd-0cea8452d6cc div.sk-toggleable__content {max-height: 0;max-width: 0;overflow: hidden;text-align: left;background-color: #f0f8ff;}#sk-3868d2fb-23f8-4af1-a7dd-0cea8452d6cc div.sk-toggleable__content pre {margin: 0.2em;color: black;border-radius: 0.25em;background-color: #f0f8ff;}#sk-3868d2fb-23f8-4af1-a7dd-0cea8452d6cc input.sk-toggleable__control:checked~div.sk-toggleable__content {max-height: 200px;max-width: 100%;overflow: auto;}#sk-3868d2fb-23f8-4af1-a7dd-0cea8452d6cc input.sk-toggleable__control:checked~label.sk-toggleable__label-arrow:before {content: \"▾\";}#sk-3868d2fb-23f8-4af1-a7dd-0cea8452d6cc div.sk-estimator input.sk-toggleable__control:checked~label.sk-toggleable__label {background-color: #d4ebff;}#sk-3868d2fb-23f8-4af1-a7dd-0cea8452d6cc div.sk-label input.sk-toggleable__control:checked~label.sk-toggleable__label {background-color: #d4ebff;}#sk-3868d2fb-23f8-4af1-a7dd-0cea8452d6cc input.sk-hidden--visually {border: 0;clip: rect(1px 1px 1px 1px);clip: rect(1px, 1px, 1px, 1px);height: 1px;margin: -1px;overflow: hidden;padding: 0;position: absolute;width: 1px;}#sk-3868d2fb-23f8-4af1-a7dd-0cea8452d6cc div.sk-estimator {font-family: monospace;background-color: #f0f8ff;border: 1px dotted black;border-radius: 0.25em;box-sizing: border-box;margin-bottom: 0.5em;}#sk-3868d2fb-23f8-4af1-a7dd-0cea8452d6cc div.sk-estimator:hover {background-color: #d4ebff;}#sk-3868d2fb-23f8-4af1-a7dd-0cea8452d6cc div.sk-parallel-item::after {content: \"\";width: 100%;border-bottom: 1px solid gray;flex-grow: 1;}#sk-3868d2fb-23f8-4af1-a7dd-0cea8452d6cc div.sk-label:hover label.sk-toggleable__label {background-color: #d4ebff;}#sk-3868d2fb-23f8-4af1-a7dd-0cea8452d6cc div.sk-serial::before {content: \"\";position: absolute;border-left: 1px solid gray;box-sizing: border-box;top: 2em;bottom: 0;left: 50%;}#sk-3868d2fb-23f8-4af1-a7dd-0cea8452d6cc div.sk-serial {display: flex;flex-direction: column;align-items: center;background-color: white;padding-right: 0.2em;padding-left: 0.2em;}#sk-3868d2fb-23f8-4af1-a7dd-0cea8452d6cc div.sk-item {z-index: 1;}#sk-3868d2fb-23f8-4af1-a7dd-0cea8452d6cc div.sk-parallel {display: flex;align-items: stretch;justify-content: center;background-color: white;}#sk-3868d2fb-23f8-4af1-a7dd-0cea8452d6cc div.sk-parallel::before {content: \"\";position: absolute;border-left: 1px solid gray;box-sizing: border-box;top: 2em;bottom: 0;left: 50%;}#sk-3868d2fb-23f8-4af1-a7dd-0cea8452d6cc div.sk-parallel-item {display: flex;flex-direction: column;position: relative;background-color: white;}#sk-3868d2fb-23f8-4af1-a7dd-0cea8452d6cc div.sk-parallel-item:first-child::after {align-self: flex-end;width: 50%;}#sk-3868d2fb-23f8-4af1-a7dd-0cea8452d6cc div.sk-parallel-item:last-child::after {align-self: flex-start;width: 50%;}#sk-3868d2fb-23f8-4af1-a7dd-0cea8452d6cc div.sk-parallel-item:only-child::after {width: 0;}#sk-3868d2fb-23f8-4af1-a7dd-0cea8452d6cc div.sk-dashed-wrapped {border: 1px dashed gray;margin: 0 0.4em 0.5em 0.4em;box-sizing: border-box;padding-bottom: 0.4em;background-color: white;position: relative;}#sk-3868d2fb-23f8-4af1-a7dd-0cea8452d6cc div.sk-label label {font-family: monospace;font-weight: bold;background-color: white;display: inline-block;line-height: 1.2em;}#sk-3868d2fb-23f8-4af1-a7dd-0cea8452d6cc div.sk-label-container {position: relative;z-index: 2;text-align: center;}#sk-3868d2fb-23f8-4af1-a7dd-0cea8452d6cc div.sk-container {/* jupyter's `normalize.less` sets `[hidden] { display: none; }` but bootstrap.min.css set `[hidden] { display: none !important; }` so we also need the `!important` here to be able to override the default hidden behavior on the sphinx rendered scikit-learn.org. See: https://github.com/scikit-learn/scikit-learn/issues/21755 */display: inline-block !important;position: relative;}#sk-3868d2fb-23f8-4af1-a7dd-0cea8452d6cc div.sk-text-repr-fallback {display: none;}</style><div id=\"sk-3868d2fb-23f8-4af1-a7dd-0cea8452d6cc\" class=\"sk-top-container\"><div class=\"sk-text-repr-fallback\"><pre>Pipeline(steps=[(&#x27;columntransformer&#x27;,\n",
       "                 ColumnTransformer(transformers=[(&#x27;pipeline-1&#x27;,\n",
       "                                                  Pipeline(steps=[(&#x27;simpleimputer&#x27;,\n",
       "                                                                   SimpleImputer()),\n",
       "                                                                  (&#x27;minmaxscaler&#x27;,\n",
       "                                                                   MinMaxScaler())]),\n",
       "                                                  &lt;sklearn.compose._column_transformer.make_column_selector object at 0x7f6a024c10d0&gt;),\n",
       "                                                 (&#x27;pipeline-2&#x27;,\n",
       "                                                  Pipeline(steps=[(&#x27;simpleimputer&#x27;,\n",
       "                                                                   SimpleImputer(strategy=&#x27;most_frequent&#x27;)),\n",
       "                                                                  (&#x27;onehotencoder&#x27;,\n",
       "                                                                   OneHotEncoder(drop=&#x27;if_binary&#x27;,\n",
       "                                                                                 handle_unknown=&#x27;ignore&#x27;,\n",
       "                                                                                 sparse=False))]),\n",
       "                                                  &lt;sklearn.compose._column_transformer.make_column_selector object at 0x7f6a024c1d30&gt;)])),\n",
       "                (&#x27;logisticregression&#x27;, LogisticRegression(C=100))])</pre><b>Please rerun this cell to show the HTML repr or trust the notebook.</b></div><div class=\"sk-container\" hidden><div class=\"sk-item sk-dashed-wrapped\"><div class=\"sk-label-container\"><div class=\"sk-label sk-toggleable\"><input class=\"sk-toggleable__control sk-hidden--visually\" id=\"c4ac83ff-0c3d-479c-8a7a-70bcff155b2a\" type=\"checkbox\" ><label for=\"c4ac83ff-0c3d-479c-8a7a-70bcff155b2a\" class=\"sk-toggleable__label sk-toggleable__label-arrow\">Pipeline</label><div class=\"sk-toggleable__content\"><pre>Pipeline(steps=[(&#x27;columntransformer&#x27;,\n",
       "                 ColumnTransformer(transformers=[(&#x27;pipeline-1&#x27;,\n",
       "                                                  Pipeline(steps=[(&#x27;simpleimputer&#x27;,\n",
       "                                                                   SimpleImputer()),\n",
       "                                                                  (&#x27;minmaxscaler&#x27;,\n",
       "                                                                   MinMaxScaler())]),\n",
       "                                                  &lt;sklearn.compose._column_transformer.make_column_selector object at 0x7f6a024c10d0&gt;),\n",
       "                                                 (&#x27;pipeline-2&#x27;,\n",
       "                                                  Pipeline(steps=[(&#x27;simpleimputer&#x27;,\n",
       "                                                                   SimpleImputer(strategy=&#x27;most_frequent&#x27;)),\n",
       "                                                                  (&#x27;onehotencoder&#x27;,\n",
       "                                                                   OneHotEncoder(drop=&#x27;if_binary&#x27;,\n",
       "                                                                                 handle_unknown=&#x27;ignore&#x27;,\n",
       "                                                                                 sparse=False))]),\n",
       "                                                  &lt;sklearn.compose._column_transformer.make_column_selector object at 0x7f6a024c1d30&gt;)])),\n",
       "                (&#x27;logisticregression&#x27;, LogisticRegression(C=100))])</pre></div></div></div><div class=\"sk-serial\"><div class=\"sk-item sk-dashed-wrapped\"><div class=\"sk-label-container\"><div class=\"sk-label sk-toggleable\"><input class=\"sk-toggleable__control sk-hidden--visually\" id=\"6efba3ad-b790-4aa1-bde2-d6778fa9fa70\" type=\"checkbox\" ><label for=\"6efba3ad-b790-4aa1-bde2-d6778fa9fa70\" class=\"sk-toggleable__label sk-toggleable__label-arrow\">columntransformer: ColumnTransformer</label><div class=\"sk-toggleable__content\"><pre>ColumnTransformer(transformers=[(&#x27;pipeline-1&#x27;,\n",
       "                                 Pipeline(steps=[(&#x27;simpleimputer&#x27;,\n",
       "                                                  SimpleImputer()),\n",
       "                                                 (&#x27;minmaxscaler&#x27;,\n",
       "                                                  MinMaxScaler())]),\n",
       "                                 &lt;sklearn.compose._column_transformer.make_column_selector object at 0x7f6a024c10d0&gt;),\n",
       "                                (&#x27;pipeline-2&#x27;,\n",
       "                                 Pipeline(steps=[(&#x27;simpleimputer&#x27;,\n",
       "                                                  SimpleImputer(strategy=&#x27;most_frequent&#x27;)),\n",
       "                                                 (&#x27;onehotencoder&#x27;,\n",
       "                                                  OneHotEncoder(drop=&#x27;if_binary&#x27;,\n",
       "                                                                handle_unknown=&#x27;ignore&#x27;,\n",
       "                                                                sparse=False))]),\n",
       "                                 &lt;sklearn.compose._column_transformer.make_column_selector object at 0x7f6a024c1d30&gt;)])</pre></div></div></div><div class=\"sk-parallel\"><div class=\"sk-parallel-item\"><div class=\"sk-item\"><div class=\"sk-label-container\"><div class=\"sk-label sk-toggleable\"><input class=\"sk-toggleable__control sk-hidden--visually\" id=\"6714d82f-a9f1-4aeb-8a55-a830e7b73edd\" type=\"checkbox\" ><label for=\"6714d82f-a9f1-4aeb-8a55-a830e7b73edd\" class=\"sk-toggleable__label sk-toggleable__label-arrow\">pipeline-1</label><div class=\"sk-toggleable__content\"><pre>&lt;sklearn.compose._column_transformer.make_column_selector object at 0x7f6a024c10d0&gt;</pre></div></div></div><div class=\"sk-serial\"><div class=\"sk-item\"><div class=\"sk-serial\"><div class=\"sk-item\"><div class=\"sk-estimator sk-toggleable\"><input class=\"sk-toggleable__control sk-hidden--visually\" id=\"f2ff624e-7c77-4071-bf20-a0ff44d773d6\" type=\"checkbox\" ><label for=\"f2ff624e-7c77-4071-bf20-a0ff44d773d6\" class=\"sk-toggleable__label sk-toggleable__label-arrow\">SimpleImputer</label><div class=\"sk-toggleable__content\"><pre>SimpleImputer()</pre></div></div></div><div class=\"sk-item\"><div class=\"sk-estimator sk-toggleable\"><input class=\"sk-toggleable__control sk-hidden--visually\" id=\"9f404bf1-fadb-4f9c-bc0f-963209c62b80\" type=\"checkbox\" ><label for=\"9f404bf1-fadb-4f9c-bc0f-963209c62b80\" class=\"sk-toggleable__label sk-toggleable__label-arrow\">MinMaxScaler</label><div class=\"sk-toggleable__content\"><pre>MinMaxScaler()</pre></div></div></div></div></div></div></div></div><div class=\"sk-parallel-item\"><div class=\"sk-item\"><div class=\"sk-label-container\"><div class=\"sk-label sk-toggleable\"><input class=\"sk-toggleable__control sk-hidden--visually\" id=\"2d80b29d-495c-4319-ae67-277d78d34391\" type=\"checkbox\" ><label for=\"2d80b29d-495c-4319-ae67-277d78d34391\" class=\"sk-toggleable__label sk-toggleable__label-arrow\">pipeline-2</label><div class=\"sk-toggleable__content\"><pre>&lt;sklearn.compose._column_transformer.make_column_selector object at 0x7f6a024c1d30&gt;</pre></div></div></div><div class=\"sk-serial\"><div class=\"sk-item\"><div class=\"sk-serial\"><div class=\"sk-item\"><div class=\"sk-estimator sk-toggleable\"><input class=\"sk-toggleable__control sk-hidden--visually\" id=\"ce3d624a-5fc1-4c61-9f04-6dd52aebdb2b\" type=\"checkbox\" ><label for=\"ce3d624a-5fc1-4c61-9f04-6dd52aebdb2b\" class=\"sk-toggleable__label sk-toggleable__label-arrow\">SimpleImputer</label><div class=\"sk-toggleable__content\"><pre>SimpleImputer(strategy=&#x27;most_frequent&#x27;)</pre></div></div></div><div class=\"sk-item\"><div class=\"sk-estimator sk-toggleable\"><input class=\"sk-toggleable__control sk-hidden--visually\" id=\"4b3fda09-b90e-4d36-a3e4-8b804ff99e47\" type=\"checkbox\" ><label for=\"4b3fda09-b90e-4d36-a3e4-8b804ff99e47\" class=\"sk-toggleable__label sk-toggleable__label-arrow\">OneHotEncoder</label><div class=\"sk-toggleable__content\"><pre>OneHotEncoder(drop=&#x27;if_binary&#x27;, handle_unknown=&#x27;ignore&#x27;, sparse=False)</pre></div></div></div></div></div></div></div></div></div></div><div class=\"sk-item\"><div class=\"sk-estimator sk-toggleable\"><input class=\"sk-toggleable__control sk-hidden--visually\" id=\"4f60934d-cf56-4605-9f9f-c0504031c514\" type=\"checkbox\" ><label for=\"4f60934d-cf56-4605-9f9f-c0504031c514\" class=\"sk-toggleable__label sk-toggleable__label-arrow\">LogisticRegression</label><div class=\"sk-toggleable__content\"><pre>LogisticRegression(C=100)</pre></div></div></div></div></div></div></div>"
      ],
      "text/plain": [
       "Pipeline(steps=[('columntransformer',\n",
       "                 ColumnTransformer(transformers=[('pipeline-1',\n",
       "                                                  Pipeline(steps=[('simpleimputer',\n",
       "                                                                   SimpleImputer()),\n",
       "                                                                  ('minmaxscaler',\n",
       "                                                                   MinMaxScaler())]),\n",
       "                                                  <sklearn.compose._column_transformer.make_column_selector object at 0x7f6a024c10d0>),\n",
       "                                                 ('pipeline-2',\n",
       "                                                  Pipeline(steps=[('simpleimputer',\n",
       "                                                                   SimpleImputer(strategy='most_frequent')),\n",
       "                                                                  ('onehotencoder',\n",
       "                                                                   OneHotEncoder(drop='if_binary',\n",
       "                                                                                 handle_unknown='ignore',\n",
       "                                                                                 sparse=False))]),\n",
       "                                                  <sklearn.compose._column_transformer.make_column_selector object at 0x7f6a024c1d30>)])),\n",
       "                ('logisticregression', LogisticRegression(C=100))])"
      ]
     },
     "execution_count": 568,
     "metadata": {},
     "output_type": "execute_result"
    }
   ],
   "source": [
    "pipe_log_opt = make_pipeline(preproc_baseline, LogisticRegression(C = 100))\n",
    "pipe_log_opt.fit(X,y)"
   ]
  },
  {
   "cell_type": "code",
   "execution_count": 572,
   "id": "cd6b5ed9",
   "metadata": {},
   "outputs": [],
   "source": [
    "y_pred_log = pipe_log_opt.predict(X_test)"
   ]
  },
  {
   "cell_type": "code",
   "execution_count": 573,
   "id": "2309f20d",
   "metadata": {},
   "outputs": [],
   "source": [
    "X_test_ids = test_data['INDEX'] # Keep index"
   ]
  },
  {
   "cell_type": "markdown",
   "id": "3a8ff727",
   "metadata": {},
   "source": [
    "Below we compute our predictions:"
   ]
  },
  {
   "cell_type": "code",
   "execution_count": 574,
   "id": "1a2da182",
   "metadata": {},
   "outputs": [
    {
     "data": {
      "text/html": [
       "<div>\n",
       "<style scoped>\n",
       "    .dataframe tbody tr th:only-of-type {\n",
       "        vertical-align: middle;\n",
       "    }\n",
       "\n",
       "    .dataframe tbody tr th {\n",
       "        vertical-align: top;\n",
       "    }\n",
       "\n",
       "    .dataframe thead th {\n",
       "        text-align: right;\n",
       "    }\n",
       "</style>\n",
       "<table border=\"1\" class=\"dataframe\">\n",
       "  <thead>\n",
       "    <tr style=\"text-align: right;\">\n",
       "      <th></th>\n",
       "      <th>INDEX</th>\n",
       "      <th>CLAIM</th>\n",
       "    </tr>\n",
       "  </thead>\n",
       "  <tbody>\n",
       "    <tr>\n",
       "      <th>0</th>\n",
       "      <td>3</td>\n",
       "      <td>0</td>\n",
       "    </tr>\n",
       "    <tr>\n",
       "      <th>1</th>\n",
       "      <td>9</td>\n",
       "      <td>0</td>\n",
       "    </tr>\n",
       "    <tr>\n",
       "      <th>2</th>\n",
       "      <td>10</td>\n",
       "      <td>0</td>\n",
       "    </tr>\n",
       "    <tr>\n",
       "      <th>3</th>\n",
       "      <td>18</td>\n",
       "      <td>0</td>\n",
       "    </tr>\n",
       "    <tr>\n",
       "      <th>4</th>\n",
       "      <td>21</td>\n",
       "      <td>0</td>\n",
       "    </tr>\n",
       "    <tr>\n",
       "      <th>...</th>\n",
       "      <td>...</td>\n",
       "      <td>...</td>\n",
       "    </tr>\n",
       "    <tr>\n",
       "      <th>2136</th>\n",
       "      <td>10279</td>\n",
       "      <td>0</td>\n",
       "    </tr>\n",
       "    <tr>\n",
       "      <th>2137</th>\n",
       "      <td>10281</td>\n",
       "      <td>0</td>\n",
       "    </tr>\n",
       "    <tr>\n",
       "      <th>2138</th>\n",
       "      <td>10285</td>\n",
       "      <td>0</td>\n",
       "    </tr>\n",
       "    <tr>\n",
       "      <th>2139</th>\n",
       "      <td>10294</td>\n",
       "      <td>0</td>\n",
       "    </tr>\n",
       "    <tr>\n",
       "      <th>2140</th>\n",
       "      <td>10300</td>\n",
       "      <td>0</td>\n",
       "    </tr>\n",
       "  </tbody>\n",
       "</table>\n",
       "<p>2141 rows × 2 columns</p>\n",
       "</div>"
      ],
      "text/plain": [
       "      INDEX  CLAIM\n",
       "0         3      0\n",
       "1         9      0\n",
       "2        10      0\n",
       "3        18      0\n",
       "4        21      0\n",
       "...     ...    ...\n",
       "2136  10279      0\n",
       "2137  10281      0\n",
       "2138  10285      0\n",
       "2139  10294      0\n",
       "2140  10300      0\n",
       "\n",
       "[2141 rows x 2 columns]"
      ]
     },
     "execution_count": 574,
     "metadata": {},
     "output_type": "execute_result"
    }
   ],
   "source": [
    "results = pd.concat([X_test_ids, pd.Series(y_pred_log, name=\"CLAIM\")], axis=1)\n",
    "results"
   ]
  },
  {
   "cell_type": "markdown",
   "id": "2003bfbf",
   "metadata": {},
   "source": [
    "Below we compute the probability for predicting a claim:"
   ]
  },
  {
   "cell_type": "code",
   "execution_count": 587,
   "id": "868f0cb1",
   "metadata": {},
   "outputs": [
    {
     "data": {
      "text/html": [
       "<div>\n",
       "<style scoped>\n",
       "    .dataframe tbody tr th:only-of-type {\n",
       "        vertical-align: middle;\n",
       "    }\n",
       "\n",
       "    .dataframe tbody tr th {\n",
       "        vertical-align: top;\n",
       "    }\n",
       "\n",
       "    .dataframe thead th {\n",
       "        text-align: right;\n",
       "    }\n",
       "</style>\n",
       "<table border=\"1\" class=\"dataframe\">\n",
       "  <thead>\n",
       "    <tr style=\"text-align: right;\">\n",
       "      <th></th>\n",
       "      <th>INDEX</th>\n",
       "      <th>PROB_CLAIM</th>\n",
       "    </tr>\n",
       "  </thead>\n",
       "  <tbody>\n",
       "    <tr>\n",
       "      <th>0</th>\n",
       "      <td>3</td>\n",
       "      <td>0.141235</td>\n",
       "    </tr>\n",
       "    <tr>\n",
       "      <th>1</th>\n",
       "      <td>9</td>\n",
       "      <td>0.230223</td>\n",
       "    </tr>\n",
       "    <tr>\n",
       "      <th>2</th>\n",
       "      <td>10</td>\n",
       "      <td>0.131258</td>\n",
       "    </tr>\n",
       "    <tr>\n",
       "      <th>3</th>\n",
       "      <td>18</td>\n",
       "      <td>0.256263</td>\n",
       "    </tr>\n",
       "    <tr>\n",
       "      <th>4</th>\n",
       "      <td>21</td>\n",
       "      <td>0.258425</td>\n",
       "    </tr>\n",
       "    <tr>\n",
       "      <th>...</th>\n",
       "      <td>...</td>\n",
       "      <td>...</td>\n",
       "    </tr>\n",
       "    <tr>\n",
       "      <th>2136</th>\n",
       "      <td>10279</td>\n",
       "      <td>0.304949</td>\n",
       "    </tr>\n",
       "    <tr>\n",
       "      <th>2137</th>\n",
       "      <td>10281</td>\n",
       "      <td>0.023017</td>\n",
       "    </tr>\n",
       "    <tr>\n",
       "      <th>2138</th>\n",
       "      <td>10285</td>\n",
       "      <td>0.008475</td>\n",
       "    </tr>\n",
       "    <tr>\n",
       "      <th>2139</th>\n",
       "      <td>10294</td>\n",
       "      <td>0.316581</td>\n",
       "    </tr>\n",
       "    <tr>\n",
       "      <th>2140</th>\n",
       "      <td>10300</td>\n",
       "      <td>0.143307</td>\n",
       "    </tr>\n",
       "  </tbody>\n",
       "</table>\n",
       "<p>2141 rows × 2 columns</p>\n",
       "</div>"
      ],
      "text/plain": [
       "      INDEX  PROB_CLAIM\n",
       "0         3    0.141235\n",
       "1         9    0.230223\n",
       "2        10    0.131258\n",
       "3        18    0.256263\n",
       "4        21    0.258425\n",
       "...     ...         ...\n",
       "2136  10279    0.304949\n",
       "2137  10281    0.023017\n",
       "2138  10285    0.008475\n",
       "2139  10294    0.316581\n",
       "2140  10300    0.143307\n",
       "\n",
       "[2141 rows x 2 columns]"
      ]
     },
     "execution_count": 587,
     "metadata": {},
     "output_type": "execute_result"
    }
   ],
   "source": [
    "pred_proba_df = pipe_log_opt.predict_proba(X_test)\n",
    "probas = pd.concat([X_test_ids, pd.Series(pred_proba_df[:,1], name=\"PROB_CLAIM\")], axis=1)\n",
    "probas"
   ]
  },
  {
   "cell_type": "markdown",
   "id": "78fa62df",
   "metadata": {},
   "source": [
    "Our results will be collected in two csv files:$\\newline$\n",
    "\n",
    "In one file, we assign for each ID in the test set, the probability of the target variable. <br>\n",
    "In the other file, we have our predictions."
   ]
  },
  {
   "cell_type": "code",
   "execution_count": 369,
   "id": "fd313f57",
   "metadata": {},
   "outputs": [],
   "source": [
    "results.to_csv(\"submission_predictions.csv\", header=True, index=False)\n",
    "probas.to_csv(\"submission_probas.csv\", header=True, index=False)"
   ]
  },
  {
   "cell_type": "markdown",
   "id": "c3a7c56b",
   "metadata": {},
   "source": [
    "Clear cache directory at the end"
   ]
  },
  {
   "cell_type": "code",
   "execution_count": null,
   "id": "c215d8c6",
   "metadata": {},
   "outputs": [],
   "source": [
    "rmtree(cachedir)"
   ]
  }
 ],
 "metadata": {
  "kernelspec": {
   "display_name": "Python 3",
   "language": "python",
   "name": "python3"
  },
  "language_info": {
   "codemirror_mode": {
    "name": "ipython",
    "version": 3
   },
   "file_extension": ".py",
   "mimetype": "text/x-python",
   "name": "python",
   "nbconvert_exporter": "python",
   "pygments_lexer": "ipython3",
   "version": "3.8.12"
  },
  "toc": {
   "base_numbering": 1,
   "nav_menu": {},
   "number_sections": true,
   "sideBar": true,
   "skip_h1_title": false,
   "title_cell": "Table of Contents",
   "title_sidebar": "Contents",
   "toc_cell": false,
   "toc_position": {},
   "toc_section_display": true,
   "toc_window_display": false
  }
 },
 "nbformat": 4,
 "nbformat_minor": 5
}
